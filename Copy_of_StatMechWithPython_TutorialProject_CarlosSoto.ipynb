{
  "cells": [
    {
      "cell_type": "markdown",
      "metadata": {
        "id": "view-in-github",
        "colab_type": "text"
      },
      "source": [
        "<a href=\"https://colab.research.google.com/github/carlossoto362/QLS2021-2022Diploma/blob/main/Copy_of_StatMechWithPython_TutorialProject_CarlosSoto.ipynb\" target=\"_parent\"><img src=\"https://colab.research.google.com/assets/colab-badge.svg\" alt=\"Open In Colab\"/></a>"
      ]
    },
    {
      "cell_type": "markdown",
      "metadata": {
        "id": "iKNNM5Y-_9Ip"
      },
      "source": [
        "# **Statistical Mechanics with Python: Tutorial project**\n",
        "*December 2021*\n",
        "\n",
        "*Proyect made by: Carlos Enmanuel Soto Lopez*\n",
        "\n",
        "*carlos.soto362@gmail.com / csoto_lo@ictp.it*\n",
        "\n",
        "\n",
        "## **The 2D Potts model**\n",
        "This is the tutorial project in the Statistical Mechanics with python curse. The 2D Potts model is a two dimentional lattice with $N = L\\times L$ spins, each of them can be in one of *q* diferent colors $s_i=(1,2,\\dots,q)$.\n",
        "\n",
        "The Hamiltonian of this system is,\n",
        "\\begin{equation}\n",
        "H(x) = -\\sum _{(i,j)}J\\delta (s_i,s_j) - \\sum _{i} h \\delta (s_i,1),\n",
        "\\end{equation}\n",
        "where $J$ is the coupling energy constant, $h$ a magnetic field. The sum over $(i,j)$ is the sum over nearest neighbors only, and $i = (i_x,i_y), j = (j_x, j_y) \\in (0,L]\\times (0,L]$ . The $\\delta()$ is the kronecker delta. For this problem I have to use periodic boundary conditions.\n",
        "\n",
        "### **Programing part** ###\n",
        "This is a Metropolis Montecarlo simulator for the 2D Potts model of any number of colors q. \n",
        "\n",
        "- Write a function that takes as arguments a 2D array of $L \\times L$ spins, $\\vec{s} = {s_{1,1},...,s_{L,L}} (s \\in 0,1,...,q )$, the coupling constant $J$, and the\n",
        "magnetic field $h$ and returns the energy of that configuration $\\vec{s}$."
      ]
    },
    {
      "cell_type": "code",
      "execution_count": null,
      "metadata": {
        "id": "H4n8rTsTEkxV"
      },
      "outputs": [],
      "source": [
        "#Proyect made by: Carlos Enmanuel Soto Lopez\n",
        "#carlos.soto362@gmail.com / csoto_lo@ictp.it\n",
        "#https://github.com/carlossoto362/QLS2021-2022Diploma\n",
        "\n",
        "#This proyect is a Metropolis Montecralo simulator for a 2D Potts model of any number of colors q. \n",
        "\n",
        "import numpy as np\n",
        "import matplotlib.pyplot as plt\n",
        "\n",
        "\n",
        "\n",
        "###########################################################\n",
        "#For the function of energy, I like to define functions for the spin on the left, right, up and down first:\n",
        "def up(x,y,L):\n",
        "  \"\"\"\n",
        "  left(x,y) is a numpy array of lengt 2, with the coordinates of the spin at the left of the coordinates x,y.\n",
        "  L is the length of one dimention of the matrix.\n",
        "  \"\"\"\n",
        "  if x == 0:\n",
        "    l = np.array([L-1,y])\n",
        "  else:\n",
        "    l = np.array([x-1,y])\n",
        "  return l\n",
        "\n",
        "def down(x,y,L):\n",
        "  \"\"\"\n",
        "  right(x,y) is a numpy array of lengt 2, with the coordinates of the spin at the right of the coordinates x,y.\n",
        "  L is the length of one dimention of the matrix.\n",
        "  \"\"\"\n",
        "  if x == L-1:\n",
        "    l = np.array([0,y])\n",
        "  else:\n",
        "    l = np.array([x+1,y])\n",
        "  return l\n",
        "\n",
        "def right(x,y,L):\n",
        "  \"\"\"\n",
        "  up(x,y) is a numpy array of lengt 2, with the coordinates of the spin up to the coordinates x,y.\n",
        "  L is the length of one dimention of the matrix.\n",
        "  \"\"\"\n",
        "  if y == L-1:\n",
        "    l = np.array([x,0])\n",
        "  else:\n",
        "    l = np.array([x,y+1])\n",
        "  return l\n",
        "\n",
        "def left(x,y,L):\n",
        "  \"\"\"\n",
        "  down(x,y) is a numpy array of lengt 2, with the coordinates of the spin down of the coordinates x,y.\n",
        "  L is the length of one dimention of the matrix.\n",
        "  \"\"\"\n",
        "  if y == 0:\n",
        "    l = np.array([x,L-1])\n",
        "  else:\n",
        "    l = np.array([x,y-1])\n",
        "  return l\n",
        "\n",
        "############################################################\n",
        "#Lets defin the delta functions as well\n",
        "def delta1(s):\n",
        "  if s == 1:\n",
        "    r = 1\n",
        "  else:\n",
        "    r = 0\n",
        "  return r\n",
        "\n",
        "def delta2(s1,s2):\n",
        "  if s1 == s2:\n",
        "    r = 1\n",
        "  else:\n",
        "    r = 0\n",
        "  return r\n",
        "\n",
        "############################################################\n",
        "#Now lets define the function that returns the energy. By the way, I will not use this function XD. \n",
        "#I will use the function that calculates the diference in energy, which will only depend on the neighbors.\n",
        "\n",
        "def Energy(Matrix2D,J,h):\n",
        "  \"\"\"\n",
        "    Energy(Matrix2D,J,h) is a float number, Matrix2D a LxL array with integer values between 0 and q, J and h are float numbers.\n",
        "  \"\"\"\n",
        "  L = Matrix2D.shape[0]\n",
        "  #the sum over the individual elements is easy, the problem is that the sum over the neighbors will count two times each interaction, \n",
        "  #so, dividing by to will lead to the correct result, and is hard in the sence that I can't do it with simple matrix operations. \n",
        "  H = 0\n",
        "  for i in range(0,L):\n",
        "    for j in range(0,L):\n",
        "      H += - h * delta1(Matrix2D[i,j]) - (J/2) * ( delta2(Matrix2D[i,j],Matrix2D[left(i,j,L)[0],left(i,j,L)[1]]) + \\\n",
        "                                                  delta2(Matrix2D[i,j],Matrix2D[right(i,j,L)[0],right(i,j,L)[1]]) + \\\n",
        "                                                  delta2(Matrix2D[i,j],Matrix2D[up(i,j,L)[0],up(i,j,L)[1]]) + \\\n",
        "                                                  delta2(Matrix2D[i,j],Matrix2D[down(i,j,L)[0],down(i,j,L)[1]]))\n",
        "  return H\n",
        "\n",
        "    "
      ]
    },
    {
      "cell_type": "markdown",
      "metadata": {
        "id": "YLwLZ64DlqfI"
      },
      "source": [
        "Write a function that compute the value of the magnetization $m_1$ of the sequence $m_1(\\vec{s})$ defined as the percentage of the sites wich are in the $q=1$ color state (normalized between 0 and 1)."
      ]
    },
    {
      "cell_type": "code",
      "execution_count": null,
      "metadata": {
        "id": "lSzBrzSUzGWn"
      },
      "outputs": [],
      "source": [
        "def m1(Matrix2D):\n",
        "  \"\"\"\n",
        "  m1(Matrix2D) counts the number of elemets on the matrix if they are equal to 1, and normalized the result with respect to the total number of elements on the matrix.\n",
        "  \"\"\"\n",
        "  L = Matrix2D.shape[0]\n",
        "  M = (Matrix2D==1).sum()/(L**2)\n",
        "  return M\n",
        "  \n",
        " "
      ]
    },
    {
      "cell_type": "markdown",
      "metadata": {
        "id": "CxuLdAyMqFX2"
      },
      "source": [
        "Check that for a lattice of homogeneous color (all sites with $s = 1$, or\n",
        "$s = 2$ etc.) and $h = 0.1$ the first function that you wrote returns the\n",
        "energy $−J ∗N ∗2 −N ∗h$ for the case of s = 1 and $−J ∗N ∗2$ for all other\n",
        "cases"
      ]
    },
    {
      "cell_type": "code",
      "execution_count": null,
      "metadata": {
        "colab": {
          "base_uri": "https://localhost:8080/"
        },
        "id": "sxqWBfkNpn7N",
        "outputId": "a77ec406-3337-4ca3-ebfa-73527e03d44a"
      },
      "outputs": [
        {
          "name": "stdout",
          "output_type": "stream",
          "text": [
            "[[1. 1. 1. 1. 1.]\n",
            " [1. 1. 1. 1. 1.]\n",
            " [1. 1. 1. 1. 1.]\n",
            " [1. 1. 1. 1. 1.]\n",
            " [1. 1. 1. 1. 1.]] \n",
            "\n",
            "Energy expected;_ -52.5 Energy obteind:_ -52.50000000000002 \n",
            "\n",
            "[[2. 2. 2. 2. 2.]\n",
            " [2. 2. 2. 2. 2.]\n",
            " [2. 2. 2. 2. 2.]\n",
            " [2. 2. 2. 2. 2.]\n",
            " [2. 2. 2. 2. 2.]] \n",
            "\n",
            "Energy Expected:_ -50.0 Energy obteined:_ -50.0\n"
          ]
        }
      ],
      "source": [
        "\n",
        "###########################################################\n",
        "#Defining two simple matrix of dimention 5x5, one with ones and the other with twos. \n",
        "N = 5*5\n",
        "h = 0.1\n",
        "J = 1.\n",
        "\n",
        "MatrixOnes = np.ones((5,5))\n",
        "print(MatrixOnes,\"\\n\")\n",
        "print(\"Energy expected;_\", -J*N*2-N*h , \"Energy obteind:_\",Energy(MatrixOnes,J,h),\"\\n\")\n",
        "MatrixTwos = MatrixOnes*2\n",
        "print(MatrixTwos,\"\\n\")\n",
        "print(\"Energy Expected:_\", -J*N*2 , \"Energy obteined:_\",Energy(MatrixTwos,1.,0.1))\n",
        "\n"
      ]
    },
    {
      "cell_type": "markdown",
      "metadata": {
        "id": "q3972dG5sHgh"
      },
      "source": [
        "Check that for a lattice of homogeneous color (all sites with $s = 1$, or\n",
        "$s = 2$ etc.) the second function shows a magnetization $m1 = 1$ for\n",
        "the $s = 1$ color and $m1 = 0$ for all other colors."
      ]
    },
    {
      "cell_type": "code",
      "execution_count": null,
      "metadata": {
        "colab": {
          "base_uri": "https://localhost:8080/"
        },
        "id": "N2GkhoaHrAG-",
        "outputId": "89a9df91-8ab8-4583-c367-9bf3cf50fa6a"
      },
      "outputs": [
        {
          "name": "stdout",
          "output_type": "stream",
          "text": [
            "Magnetization expected:_ 1 obteined:_ 1.0 \n",
            "\n",
            "Magnetization expected:_ 0 obteined:_ 0.0 \n",
            "\n"
          ]
        }
      ],
      "source": [
        "print(\"Magnetization expected:_\", 1, \"obteined:_\",m1(MatrixOnes),\"\\n\")\n",
        "print(\"Magnetization expected:_\", 0, \"obteined:_\",m1(MatrixTwos),\"\\n\")"
      ]
    },
    {
      "cell_type": "markdown",
      "metadata": {
        "id": "e7JTcVHAspkZ"
      },
      "source": [
        "Check that for a sequence of randomly generated lattices with number of\n",
        "colors q, the energy is distributed around $−J ∗N ∗2/q −N ∗h/q$ and the\n",
        "magnetization is approximately $1/q$ (check for a few values of q)."
      ]
    },
    {
      "cell_type": "code",
      "execution_count": null,
      "metadata": {
        "id": "WmVBpsc7sg_s"
      },
      "outputs": [],
      "source": [
        "###########################################################\n",
        "#this part include code that was not teached in the class, but i think is a nice inclusion. Of course, it can be ignored...\n",
        "#It ask to the user for the number of colors.\n",
        "\"\"\"\n",
        "q = input(\"write the number of colors please_ \")\n",
        "flag = False\n",
        "while flag == False:\n",
        "  try:\n",
        "    q = int(q)\n",
        "    flag = True\n",
        "  except ValueError:\n",
        "    q = input(\"Incorrect input, try with a number, not an integer_ \")\n",
        "\"\"\"\n",
        "#############################################################\n",
        "#if the prebious part is on, this part should be off\n",
        "q=3\n",
        "#############################################################\n",
        "#Creating the list of m  matrices of dimention N\n",
        "np.random.seed(2021)\n",
        "m = 100\n",
        "L = 100\n",
        "N = L*L\n",
        "Series = (np.random.random((m,L,L))*q).astype(int) + 1\n"
      ]
    },
    {
      "cell_type": "code",
      "execution_count": null,
      "metadata": {
        "id": "adZBglvpuWAh"
      },
      "outputs": [],
      "source": [
        "##############################################################\n",
        "#Calculating the average energy and magnetization, with magnetic field h and interaction constant J\n",
        "h=0.1\n",
        "J=1\n",
        "Energys = np.empty(m)\n",
        "Magnetizations = np.empty(m)\n",
        "\n",
        "for i in range(m):\n",
        "  Energys[i] = Energy(Series[i],J,h)\n",
        "  Magnetizations[i] = m1(Series[i])"
      ]
    },
    {
      "cell_type": "code",
      "execution_count": null,
      "metadata": {
        "colab": {
          "base_uri": "https://localhost:8080/"
        },
        "id": "FCzb2bch0pHl",
        "outputId": "5970b346-a4fe-4c21-9fa8-56e4299fdc30"
      },
      "outputs": [
        {
          "name": "stdout",
          "output_type": "stream",
          "text": [
            "Expected Energy:  -7000.0 Energy average obteined:  -7004.91 +- 63.25\n",
            "Expected Magnetization:  0.33 Magnetization average obteined:  0.33 +- 0.01\n"
          ]
        }
      ],
      "source": [
        "AverageEnergy = Energys.mean()\n",
        "DeviationEnergy = Energys.std()\n",
        "AverageMagnetization = Magnetizations.mean()\n",
        "DeviationMagnetization = Magnetizations.std()\n",
        "print(\"Expected Energy: \",-(J*N*2 / q) - (N*h)/q, \"Energy average obteined: \",round(AverageEnergy,2),\"+-\",round(DeviationEnergy,2))\n",
        "print(\"Expected Magnetization: \",round(1/q,2), \"Magnetization average obteined: \",round(AverageMagnetization,2),\"+-\",round(DeviationMagnetization,2))"
      ]
    },
    {
      "cell_type": "markdown",
      "metadata": {
        "id": "6Zc32fQaWMlQ"
      },
      "source": [
        "## **Metropolis Markov chain**\n",
        "\n",
        "I have to use the metropolis algoritm to sample from the canonical ensamble of $\\vec{s}$. The algoritm I will use is sumiriced in the next steps:\n",
        "\n",
        "- Generate a rando sample $\\vec{s}$.\n",
        "- Generate a new random sample $\\vec{s}'$, equal to the sample $\\vec{s}$, but with one spin changed. \n",
        "- If the diference in the energy $\\Delta E \\leq 0$, accept the new sample, if not, accept the new sample with probability $p = e^{-\\beta \\Delta E}$.\n",
        "- Repit the procedure at least a number of times $n > q^N$, where $q^N$ is the total number of posible configurations.  This is to ensure that the algoritm conciders a sustancial amount of all the posible configurations.  \n"
      ]
    },
    {
      "cell_type": "code",
      "execution_count": null,
      "metadata": {
        "id": "CEvu3wpQ1d9W"
      },
      "outputs": [],
      "source": [
        "#Defining the diference in energy:\n",
        "#When one of the spins is  change, the diference in the energy only concerns the spin that was changed and his neightbours. \n",
        "def DeltaEnergy(Matrix2D,position,newQ,J,h):\n",
        "  \"\"\"\n",
        "  DeltaEnergy is a float equal to the diference betwin the function Energy(Matrix2D,J,h) of the lattice Matrix2D and the lattice Matrix2D with the element \n",
        "  \"position\" change to \"newQ\". Position is a numpy array of two elements, equal to the coordinates of in the Matrix2D that was changed. \n",
        "  \"\"\"\n",
        "  L = np.shape(Matrix2D)[0]\n",
        "  i=position[0]\n",
        "  j=position[1]\n",
        "  H1 = - h * delta1(Matrix2D[i,j]) - (J/2) * ( delta2(Matrix2D[i,j],Matrix2D[left(i,j,L)[0],left(i,j,L)[1]]) + \\\n",
        "                                                  delta2(Matrix2D[i,j],Matrix2D[right(i,j,L)[0],right(i,j,L)[1]]) + \\\n",
        "                                                  delta2(Matrix2D[i,j],Matrix2D[up(i,j,L)[0],up(i,j,L)[1]]) + \\\n",
        "                                                  delta2(Matrix2D[i,j],Matrix2D[down(i,j,L)[0],down(i,j,L)[1]]))\n",
        "  \n",
        "  H2 = - h * delta1(newQ) - (J/2) * ( delta2(newQ,Matrix2D[left(i,j,L)[0],left(i,j,L)[1]]) + \\\n",
        "                                                  delta2(newQ,Matrix2D[right(i,j,L)[0],right(i,j,L)[1]]) + \\\n",
        "                                                  delta2(newQ,Matrix2D[up(i,j,L)[0],up(i,j,L)[1]]) + \\\n",
        "                                                  delta2(newQ,Matrix2D[down(i,j,L)[0],down(i,j,L)[1]]))\n",
        "  return H2 - H1"
      ]
    },
    {
      "cell_type": "markdown",
      "metadata": {
        "id": "6qFvIicVdrXY"
      },
      "source": [
        "Checking that, given $\\vec{s}= ((1,2,2),(2,1,1),(2,1,1)),\\vec{s}'= ((2,2,2),(2,1,1),(2,1,1)), J = 1,\n",
        "h = 0.1$ I must obtain $\\Delta E = −1.9$."
      ]
    },
    {
      "cell_type": "code",
      "execution_count": null,
      "metadata": {
        "colab": {
          "base_uri": "https://localhost:8080/"
        },
        "id": "ofXlA_VodhB7",
        "outputId": "5f6c3852-c0bb-4767-88e6-0359a8f6cccd"
      },
      "outputs": [
        {
          "name": "stdout",
          "output_type": "stream",
          "text": [
            "Delta energy:_  -1.9\n"
          ]
        }
      ],
      "source": [
        "s1 = np.array([[1,2,2],[2,1,1],[2,1,1]])\n",
        "s2 = np.array([[2,2,2],[2,1,1],[2,1,1]])\n",
        "J = 1\n",
        "h = 0.1\n",
        "position = np.array([0,0])\n",
        "newQ = 2.\n",
        "print(\"Delta energy:_ \",DeltaEnergy(s1,position,newQ,J,h))"
      ]
    },
    {
      "cell_type": "markdown",
      "metadata": {
        "id": "fQ9fGtayllZ5"
      },
      "source": [
        "Writing a function that takes as arguments a configuration, $\\vec{s}$, the number\n",
        "of possible colors $q$, the coupling constant $J$, the magnetic field $h$ and the\n",
        "inverse temperature $β$, and returns a new configuration according to the\n",
        "Metropolis prescription."
      ]
    },
    {
      "cell_type": "code",
      "execution_count": null,
      "metadata": {
        "id": "pDFbgXDheuM1"
      },
      "outputs": [],
      "source": [
        "def metropolisStep(Matrix2D,q,J,h,betha):\n",
        "  \"\"\"\n",
        "  metropolisStep takes a matrix, choose at random one coordenate, reeds the value of the coordenate and chooses an integer diferent from his value, \n",
        "  less than q. If the diference in energy is less than 0, returns the Matrix2D but whith the value changed, if not, returns the matrix changed with\n",
        "  probability exp{-betha * DeltaEnergy}.\n",
        "  \"\"\"\n",
        "  L = np.shape(Matrix2D)[0]\n",
        "  position = (np.random.random((2))*L).astype(int) \n",
        "  value = Matrix2D[position[0],position[1]]\n",
        "  flag = False\n",
        "  while flag == False:\n",
        "    newQ = int(np.random.random()*q) + 1\n",
        "    if newQ != value:\n",
        "      flag = True\n",
        "    else:\n",
        "      pass\n",
        "  dE = DeltaEnergy(Matrix2D,position,newQ,J,h)\n",
        "  if dE <= 0:\n",
        "    Matrix2D[position[0],position[1]] = newQ\n",
        "    return Matrix2D, dE\n",
        "  else:\n",
        "    if (np.random.random() < np.exp(-betha *dE)):\n",
        "      Matrix2D[position[0],position[1]] = newQ\n",
        "      return Matrix2D, dE\n",
        "    else:\n",
        "      return Matrix2D, 0\n"
      ]
    },
    {
      "cell_type": "markdown",
      "metadata": {
        "id": "lRc1xoDosJP-"
      },
      "source": [
        "Iterating the function above for some steps starting from a random initial\n",
        "configuration of N = 20 ×20 spins. Checking that, when q = 2, h = 0.1 and\n",
        "choosing a small temperature β = 10, I end up in a configuration where\n",
        "all the sites have color 1 after enough iterations"
      ]
    },
    {
      "cell_type": "code",
      "execution_count": null,
      "metadata": {
        "colab": {
          "base_uri": "https://localhost:8080/"
        },
        "id": "WzfIgeFJsACi",
        "outputId": "477c8a3f-6d9a-438b-9703-e2da59586669"
      },
      "outputs": [
        {
          "name": "stdout",
          "output_type": "stream",
          "text": [
            "[[1 1 1 1 1 1 1 1 1 1 1 1 1 1 1 1 1 1 1 1]\n",
            " [1 1 1 1 1 1 1 1 1 1 1 1 1 1 1 1 1 1 1 1]\n",
            " [1 1 1 1 1 1 1 1 1 1 1 1 1 1 1 1 1 1 1 1]\n",
            " [1 1 1 1 1 1 1 1 1 1 1 1 1 1 1 1 1 1 1 1]\n",
            " [1 1 1 1 1 1 1 1 1 1 1 1 1 1 1 1 1 1 1 1]\n",
            " [1 1 1 1 1 1 1 1 1 1 1 1 1 1 1 1 1 1 1 1]\n",
            " [1 1 1 1 1 1 1 1 1 1 1 1 1 1 1 1 1 1 1 1]\n",
            " [1 1 1 1 1 1 1 1 1 1 1 1 1 1 1 1 1 1 1 1]\n",
            " [1 1 1 1 1 1 1 1 1 1 1 1 1 1 1 1 1 1 1 1]\n",
            " [1 1 1 1 1 1 1 1 1 1 1 1 1 1 1 1 1 1 1 1]\n",
            " [1 1 1 1 1 1 1 1 1 1 1 1 1 1 1 1 1 1 1 1]\n",
            " [1 1 1 1 1 1 1 1 1 1 1 1 1 1 1 1 1 1 1 1]\n",
            " [1 1 1 1 1 1 1 1 1 1 1 1 1 1 1 1 1 1 1 1]\n",
            " [1 1 1 1 1 1 1 1 1 1 1 1 1 1 1 1 1 1 1 1]\n",
            " [1 1 1 1 1 1 1 1 1 1 1 1 1 1 1 1 1 1 1 1]\n",
            " [1 1 1 1 1 1 1 1 1 1 1 1 1 1 1 1 1 1 1 1]\n",
            " [1 1 1 1 1 1 1 1 1 1 1 1 1 1 1 1 1 1 1 1]\n",
            " [1 1 1 1 1 1 1 1 1 1 1 1 1 1 1 1 1 1 1 1]\n",
            " [1 1 1 1 1 1 1 1 1 1 1 1 1 1 1 1 1 1 1 1]\n",
            " [1 1 1 1 1 1 1 1 1 1 1 1 1 1 1 1 1 1 1 1]]\n"
          ]
        }
      ],
      "source": [
        "np.random.seed(2021)\n",
        "L = 20\n",
        "N = L*L\n",
        "q = 2\n",
        "h = 0.1\n",
        "J = 1\n",
        "betha = 10\n",
        "Matrix2D = (np.random.random((L,L))*q).astype(int) + 1\n",
        "for k in range(10000):\n",
        "  Matrix2D = metropolisStep(Matrix2D,q,J,h,betha)[0]\n",
        "print(Matrix2D)\n"
      ]
    },
    {
      "cell_type": "markdown",
      "metadata": {
        "id": "eSVFY_-WtqhY"
      },
      "source": [
        "## **Generating samples and computing the magnetization**\n",
        "\n",
        "Write a function that generates samples of energy and magnetization with\n",
        "the Metropolis algorithm. The function takes as argument the length of\n",
        "the chain L, the inverse temperature β, the number of colors q, the coupling constant J, the magnetic field h, the equilibration time $t_e$ and the\n",
        "number of samples $N_{samples}$. It returns the list/array of the $N_{samples}$ generated samples."
      ]
    },
    {
      "cell_type": "code",
      "execution_count": null,
      "metadata": {
        "id": "7I63UGj5tNCF"
      },
      "outputs": [],
      "source": [
        "#Lets get the equilibration time: The time needed in orther to get to the stable distribution.\n",
        "#Generating the random matrix:\n",
        "#caclulating the initial magnetization, and storing the magnetization after m iterations, for 5 values of L\n",
        "\n",
        "q = 2\n",
        "h = 0.1\n",
        "J = 1\n",
        "betha = 10\n",
        "m=20000\n",
        "np.random.seed(2021)\n",
        "MagnetizationList = np.empty((m,8))\n",
        "r=0\n",
        "for L in [5,10,15,20,25,30,35,40]:\n",
        "  N = L*L\n",
        "  Matrix2D = (np.random.random((L,L))*q).astype(int) + 1\n",
        "\n",
        "  for k in range (m):\n",
        "   MagnetizationList[k,r] = m1(Matrix2D)\n",
        "   Matrix2D = metropolisStep(Matrix2D,q,J,h,betha)[0]\n",
        "  r = r+1\n",
        "steps = np.arange(m)"
      ]
    },
    {
      "cell_type": "code",
      "execution_count": null,
      "metadata": {
        "colab": {
          "base_uri": "https://localhost:8080/",
          "height": 295
        },
        "id": "Fw7L3nMrcD5n",
        "outputId": "f66602bb-e4d8-4c37-c1c3-2b76ce28a208"
      },
      "outputs": [
        {
          "data": {
            "image/png": "[encoded data removed]",
            "text/plain": [
              "<Figure size 432x288 with 1 Axes>"
            ]
          },
          "metadata": {},
          "output_type": "display_data"
        }
      ],
      "source": [
        "plt.title(\"Magnetization vrs steps\")\n",
        "plt.xlabel(\"number of steps\")\n",
        "plt.ylabel(\"magnetization\")\n",
        "\n",
        "for k in range(8):\n",
        "  plt.plot(steps,MagnetizationList[:,k], label= \"Size L = \" + str(k*5 + 5))\n",
        "plt.legend()\n",
        "plt.show()"
      ]
    },
    {
      "cell_type": "code",
      "execution_count": null,
      "metadata": {
        "colab": {
          "base_uri": "https://localhost:8080/",
          "height": 317
        },
        "id": "TpeoXSSFjK53",
        "outputId": "800b0f8c-593b-461c-d9ee-68f7ca857a34"
      },
      "outputs": [
        {
          "name": "stderr",
          "output_type": "stream",
          "text": [
            "/usr/local/lib/python3.7/dist-packages/ipykernel_launcher.py:5: RuntimeWarning: divide by zero encountered in power\n",
            "  \"\"\"\n"
          ]
        },
        {
          "name": "stdout",
          "output_type": "stream",
          "text": [
            "equilibrium time:_  2645\n"
          ]
        },
        {
          "data": {
            "image/png": "[encoded data removed]",
            "text/plain": [
              "<Figure size 432x288 with 1 Axes>"
            ]
          },
          "metadata": {},
          "output_type": "display_data"
        }
      ],
      "source": [
        "#The time depends on the size of the lattice. The shape of this curves is similar to the function 1-e**{-x/tp}, where tp would be a \n",
        "#mesure of the equilibrium time. Lets fit this data to this function, using the librery scipy, with the function scipy.optimize.curve_fit :\n",
        "from scipy.optimize import curve_fit as scurve\n",
        "def func(x, tp,a,b,c):\n",
        "  return c*(1-np.exp(-x/tp))**a - b\n",
        "#popt are the optimal parameters so that the sum of the squared residuals of f(xdata, *popt) - ydata is minimized.\n",
        "#pcov is the covariance\n",
        "k=2\n",
        "popt, pcov = scurve(func, steps, MagnetizationList[:,k]) \n",
        "#am using L = k, using 3*tp as the equilibrium time:\n",
        "print(\"equilibrium time:_ \", int(4*popt[0]))\n",
        "\n",
        "plt.plot(steps,MagnetizationList[:,k], label= \"Size L = \" + str(5*k + 5))\n",
        "plt.plot(steps, func(steps, *popt), label='fit')\n",
        "plt.legend()\n",
        "plt.show()\n"
      ]
    },
    {
      "cell_type": "code",
      "execution_count": null,
      "metadata": {
        "id": "Uu0b8B1_rJXS"
      },
      "outputs": [],
      "source": [
        "#defining a function that does this procedure for any lattice:\n",
        "def equilibriumTime(L,q,J,h,betha,n,m):\n",
        "  \"\"\"\n",
        "  equilibriumTime(q,J,h,betha,n,m) returns an aproximation of the mean of the equilibrium time, n is the number of samples used to calculate the mean tp.\n",
        "  m is the maximun number of steps used to calculate one tp.\n",
        "  \"\"\"\n",
        "  \n",
        "  tps = np.zeros(n)\n",
        "  for i in range(n):\n",
        "    flag = False\n",
        "    while flag == False:\n",
        "      try:\n",
        "        Matrix2D = (np.random.random((L,L))*q).astype(int) + 1\n",
        "        MagnetizationList = np.zeros(m)\n",
        "        for k in range (m):\n",
        "          MagnetizationList[k] = m1(Matrix2D)\n",
        "          Matrix2D = metropolisStep(Matrix2D,q,J,h,betha)[0]\n",
        "\n",
        "        steps = np.arange(m)\n",
        "        tps[i] = int(scurve(func, steps, MagnetizationList)[0][0])\n",
        "        flag = True \n",
        "      except RuntimeError:\n",
        "        pass\n",
        "  #deleten large deviations\n",
        "  tps = tps.astype(int)\n",
        "  for _ in range(int(0.1*n)):\n",
        "    tps = np.delete(tps,np.argmax(tps))\n",
        "  return np.mean(tps),tps\n",
        "\n"
      ]
    },
    {
      "cell_type": "code",
      "execution_count": null,
      "metadata": {
        "colab": {
          "base_uri": "https://localhost:8080/"
        },
        "id": "zUajg_4S29zt",
        "outputId": "186bc49c-0aaf-4053-a98b-1acfc33a4769"
      },
      "outputs": [
        {
          "name": "stderr",
          "output_type": "stream",
          "text": [
            "/usr/local/lib/python3.7/dist-packages/ipykernel_launcher.py:5: RuntimeWarning: divide by zero encountered in power\n",
            "  \"\"\"\n",
            "/usr/local/lib/python3.7/dist-packages/ipykernel_launcher.py:5: RuntimeWarning: overflow encountered in power\n",
            "  \"\"\"\n"
          ]
        }
      ],
      "source": [
        "#Cheking the function\n",
        "np.random.seed(2023)\n",
        "tp,tps=equilibriumTime(10,q,J,h,betha,400,2000)\n"
      ]
    },
    {
      "cell_type": "code",
      "execution_count": null,
      "metadata": {
        "colab": {
          "base_uri": "https://localhost:8080/"
        },
        "id": "wpxIl4sT4f5J",
        "outputId": "aece1f75-a1d1-46e5-99c0-d3df551a2e1d"
      },
      "outputs": [
        {
          "name": "stdout",
          "output_type": "stream",
          "text": [
            "695.8777777777777\n"
          ]
        }
      ],
      "source": [
        "print(4*tp)\n"
      ]
    },
    {
      "cell_type": "code",
      "execution_count": null,
      "metadata": {
        "id": "fpJIWFLRuEzO"
      },
      "outputs": [],
      "source": [
        "#the previous procedure only works with low temperatures!!!\n",
        "#Now lets analice the correlation time:\n",
        "#The idea is to make n realizations of the same experiment, and see how the correlation time evolves, for m events after the time tp. \n",
        "#Guiven an equilibrium time tp:\n",
        "def selfCorrelation(L,q,J,h,betha,tp,n,m):\n",
        "  \"\"\"\n",
        "  selfCorrelation(Matrix2D,J,h,q,tp,n,m) returns an array with the m values of the autocorrelation after the equilibrium time tp has pass. \n",
        "  \"\"\"\n",
        "  MomentInit = np.zeros((n))\n",
        "  MomentTwo = np.zeros((n,m))\n",
        "  products = np.zeros((n,m))\n",
        "  for i in range(n):\n",
        "    Matrix = (np.random.random((L,L))*q).astype(int) + 1\n",
        "    for _ in range(tp):\n",
        "      Matrix = metropolisStep(Matrix2D,q,J,h,betha)[0]\n",
        "    magnetizationInit = m1(Matrix)\n",
        "    MomentInit[i] = magnetizationInit\n",
        "    for j in range(m):\n",
        "      Matrix = metropolisStep(Matrix,q,J,h,betha)[0]\n",
        "      mag = m1(Matrix)\n",
        "      MomentTwo[i,j]=mag\n",
        "      products[i,j]=MomentInit[i]*mag\n",
        "  stdM1 = np.std(MomentInit) \n",
        "  meanM1 = np.mean(MomentInit)\n",
        "  stdM2 = np.std(MomentTwo,axis=0)\n",
        "  meanM2 = np.mean(MomentTwo,axis =0)\n",
        "  meanM1M2 = np.mean(products,axis=0)\n",
        "  return (meanM1M2 - meanM1 * meanM2)/(stdM1 * stdM2)\n"
      ]
    },
    {
      "cell_type": "code",
      "execution_count": null,
      "metadata": {
        "colab": {
          "base_uri": "https://localhost:8080/",
          "height": 265
        },
        "id": "O8bvJeKSF_YD",
        "outputId": "7797293f-7a4b-456c-ed50-2a9ea1cebe57"
      },
      "outputs": [
        {
          "data": {
            "image/png": "[encoded data removed]",
            "text/plain": [
              "<Figure size 432x288 with 1 Axes>"
            ]
          },
          "metadata": {},
          "output_type": "display_data"
        }
      ],
      "source": [
        "#lets tried it\n",
        "#np.random.seed(2023)\n",
        "q = 2\n",
        "h = 0.1\n",
        "J = 1\n",
        "betha = 4\n",
        "L=10\n",
        "N =L*L\n",
        "tp = 700\n",
        "m = 300\n",
        "n=100\n",
        "for i in range(4):\n",
        "  scorrelation = selfCorrelation(L,q,J,h,betha,tp,n,m)\n",
        "  steps = np.arange(m)\n",
        "  plt.plot(steps,scorrelation,label=\"realization \" + str(i + 1))\n",
        "plt.legend()\n",
        "plt.show()"
      ]
    },
    {
      "cell_type": "code",
      "execution_count": null,
      "metadata": {
        "id": "L_UZyUQ9HHJ4"
      },
      "outputs": [],
      "source": [
        "#this problem has the inconvinient of been too long and computationaly complicated. Using the fact that 4*L*L seems to work fine, \n",
        "#that is the value that I will use. Defining the sampling:\n",
        "\n",
        "def sampling(L,q,J,h,betha,tp,N,tc):\n",
        "  \"\"\"\n",
        "  sampling(L,q,J,h,betha,tp,N) creates an array of lengt N with the energies and magnetization of a lattice in the potts model, of leng L,\n",
        "  with interaction constant J, magnetic field h, q colors, energy betha and equilibrium time tp. I'm going to asume that the correlation\n",
        "  time is equal to 2*L*L. returns a numpy array of dimention (N,2), with N tuplets of energy and momentum. \n",
        "  \"\"\"\n",
        "  sample = np.zeros((N,2))\n",
        "  Matrix = (np.random.random((L,L))*q).astype(int) + 1\n",
        "  for _ in range(tp):\n",
        "    Matrix = metropolisStep(Matrix,q,J,h,betha)[0]\n",
        "  for i in range(N):\n",
        "    sample[i,0]=Energy(Matrix,J,h)\n",
        "    sample[i,1]=m1(Matrix)\n",
        "    for _ in range(tc):\n",
        "      Matrix = metropolisStep(Matrix,q,J,h,betha)[0]\n",
        "  return sample\n",
        "  "
      ]
    },
    {
      "cell_type": "code",
      "execution_count": null,
      "metadata": {
        "colab": {
          "base_uri": "https://localhost:8080/"
        },
        "id": "AZpx5Z8yO3rX",
        "outputId": "18dd98f9-9d65-4614-dca6-6d5c5eb7c1bf"
      },
      "outputs": [
        {
          "name": "stdout",
          "output_type": "stream",
          "text": [
            "[[-201.8     0.98]\n",
            " [-210.      1.  ]\n",
            " [-205.9     0.99]\n",
            " [-183.2     0.92]\n",
            " [-197.7     0.97]\n",
            " [-199.7     0.97]\n",
            " [-205.9     0.99]\n",
            " [-210.      1.  ]\n",
            " [-203.8     0.98]\n",
            " [-205.9     0.99]\n",
            " [-210.      1.  ]\n",
            " [-210.      1.  ]\n",
            " [-205.9     0.99]\n",
            " [-205.9     0.99]\n",
            " [-201.8     0.98]\n",
            " [-201.8     0.98]\n",
            " [-201.8     0.98]\n",
            " [-193.5     0.95]\n",
            " [-180.8     0.88]\n",
            " [-191.4     0.94]]\n"
          ]
        }
      ],
      "source": [
        "#testing the function:\n",
        "print(sampling(10,2,1,0.1,2,2000,20,400))"
      ]
    },
    {
      "cell_type": "markdown",
      "metadata": {
        "id": "zH7DxJvvXTiu"
      },
      "source": [
        "## **Numerical investigations**\n",
        "\n",
        "The Potts model presents different phase transitions for different number of\n",
        "colors $q$. For $q ≤4$ the model presents the same transition as the Ising model, i.e. a continuous transition between an homogeneous (ferromagnetic) state at low temperature (large $\\beta$) and a random-mix state at large temperature. The exact temperature of the transition at infinite size for $h = 0$ is $\\beta_c(q) = ln(1+p(q))/J$.\n",
        "For $q > 4$ the transition becomes first order, so there is a discontinuity (in the N →∞limit only) in the energy as the temperature cross the critical value $\\beta_c(q)$.\n",
        "\n",
        "- Taking $J = 1$ and a small value of h = 0.05 (only to break the symmetry in\n",
        "color). Study the average energy and magnetization for different\n",
        "temperatures crossing the critical values at number of color $q = 2$\n",
        "and $q = 5$ and ploting them. In both case, to focus the data points for\n",
        "inverse temperatures β close to the transition in order to distinguish their\n",
        "behavior. "
      ]
    },
    {
      "cell_type": "markdown",
      "metadata": {
        "id": "AG6qdiI6MES3"
      },
      "source": [
        "- For both values of $q$ measure the correlation time for the energy and magnetization at a inverse temperature $β > β_c$. Use these value to estimate the\n",
        "error on average magnetization and energy from the variance. (Remember: $\\delta_2 = \\sigma_2/N_{corr}$, where $N_{corr}$ is the number of samples corresponding to the correlation time.) Add the errors to the plot above."
      ]
    },
    {
      "cell_type": "code",
      "execution_count": null,
      "metadata": {
        "id": "ozgRQ3DbPEmL"
      },
      "outputs": [],
      "source": [
        "#Let's first studied the dependence of the equilibrium time on the temperature, of a lattice with L = 5 and q = 2.\n",
        "#np.random.seed(2021)\n",
        "L=10\n",
        "q=2\n",
        "J=1\n",
        "h=0.1\n",
        "bethas = [2,4,6,8,10]\n",
        "m=2000\n",
        "magnetizationList = np.zeros((m,5))\n",
        "r=0\n",
        "for betha in bethas:\n",
        "  Matrix2D = (np.random.random((L,L))*q).astype(int) + 1\n",
        "\n",
        "  for k in range (m):\n",
        "   magnetizationList[k,r] = m1(Matrix2D)\n",
        "   Matrix2D = metropolisStep(Matrix2D,q,J,h,betha)[0]\n",
        "  r = r+1\n",
        "steps = np.arange(m)\n"
      ]
    },
    {
      "cell_type": "code",
      "execution_count": null,
      "metadata": {
        "colab": {
          "base_uri": "https://localhost:8080/",
          "height": 279
        },
        "id": "liaKzazbb80z",
        "outputId": "a0bfc1f6-bcd6-4d34-e700-d6e1d31f3a4a"
      },
      "outputs": [
        {
          "data": {
            "image/png": "[encoded data removed]",
            "text/plain": [
              "<Figure size 432x288 with 1 Axes>"
            ]
          },
          "metadata": {},
          "output_type": "display_data"
        }
      ],
      "source": [
        "plt.xlabel(\"steps\")\n",
        "plt.ylabel(\"magnetization\")\n",
        "for i in range(5):\n",
        "  plt.plot(steps,magnetizationList[:,i],label = \"Betha = \" + str(bethas[i]))\n",
        "plt.legend()\n",
        "plt.show()"
      ]
    },
    {
      "cell_type": "code",
      "execution_count": null,
      "metadata": {
        "colab": {
          "base_uri": "https://localhost:8080/"
        },
        "id": "Obi7VtiG9OM1",
        "outputId": "7c54dbbb-ae89-434f-aac5-ce35d35e44d6"
      },
      "outputs": [
        {
          "name": "stderr",
          "output_type": "stream",
          "text": [
            "/usr/local/lib/python3.7/dist-packages/ipykernel_launcher.py:5: RuntimeWarning: divide by zero encountered in power\n",
            "  \"\"\"\n",
            "/usr/local/lib/python3.7/dist-packages/ipykernel_launcher.py:5: RuntimeWarning: invalid value encountered in power\n",
            "  \"\"\"\n",
            "/usr/local/lib/python3.7/dist-packages/ipykernel_launcher.py:5: RuntimeWarning: overflow encountered in exp\n",
            "  \"\"\"\n",
            "/usr/local/lib/python3.7/dist-packages/ipykernel_launcher.py:5: RuntimeWarning: overflow encountered in power\n",
            "  \"\"\"\n",
            "/usr/local/lib/python3.7/dist-packages/scipy/optimize/minpack.py:808: OptimizeWarning: Covariance of the parameters could not be estimated\n",
            "  category=OptimizeWarning)\n"
          ]
        }
      ],
      "source": [
        "#It seems that the bihaviour is the same, but with a lot of noise for hight temperatures, wich makes it take longer to get to the stable magnetization. \n",
        "#let's find tp for 4 ranges of the temperature, h = 0.05 and q = 2\n",
        "bethas = [1,2,3,4]\n",
        "tp = np.zeros(4)\n",
        "L=10\n",
        "q=2\n",
        "J=1\n",
        "h=0.05\n",
        "\n",
        "for betha in bethas:\n",
        "  tp[betha-1]=equilibriumTime(L,q,J,h,betha,400,2000)[0]\n"
      ]
    },
    {
      "cell_type": "code",
      "execution_count": null,
      "metadata": {
        "colab": {
          "base_uri": "https://localhost:8080/"
        },
        "id": "dXx2TQSJBug7",
        "outputId": "01794872-3283-472f-f32d-f19ea6743144"
      },
      "outputs": [
        {
          "name": "stdout",
          "output_type": "stream",
          "text": [
            "tp for betha = 1:_  115 , tp for betha = 2:_  976 , tp for betha = 3:_  834 , tp for betha = 4:_  876\n"
          ]
        }
      ],
      "source": [
        "print(\"tp for betha = 1:_ \",int(tp[0]*4),\", tp for betha = 2:_ \",int(tp[1]*4),\", tp for betha = 3:_ \",int(tp[2]*4),\", tp for betha = 4:_ \",int(tp[3]*4))\n",
        "tps2=np.array([int(tp[0]*4),int(tp[1]*4),int(tp[2]*4),int(tp[3]*4)])"
      ]
    },
    {
      "cell_type": "code",
      "execution_count": null,
      "metadata": {
        "colab": {
          "base_uri": "https://localhost:8080/"
        },
        "id": "8wZ82_IwCkp3",
        "outputId": "fa22f3de-dece-430a-a07d-e201cb4cb2e1"
      },
      "outputs": [
        {
          "name": "stderr",
          "output_type": "stream",
          "text": [
            "/usr/local/lib/python3.7/dist-packages/ipykernel_launcher.py:5: RuntimeWarning: divide by zero encountered in power\n",
            "  \"\"\"\n",
            "/usr/local/lib/python3.7/dist-packages/ipykernel_launcher.py:5: RuntimeWarning: overflow encountered in exp\n",
            "  \"\"\"\n",
            "/usr/local/lib/python3.7/dist-packages/ipykernel_launcher.py:5: RuntimeWarning: invalid value encountered in power\n",
            "  \"\"\"\n",
            "/usr/local/lib/python3.7/dist-packages/ipykernel_launcher.py:5: RuntimeWarning: overflow encountered in power\n",
            "  \"\"\"\n",
            "/usr/local/lib/python3.7/dist-packages/scipy/optimize/minpack.py:808: OptimizeWarning: Covariance of the parameters could not be estimated\n",
            "  category=OptimizeWarning)\n"
          ]
        }
      ],
      "source": [
        "#let's find tp for 4 ranges of temperature, h = 0.05 and q = 5\n",
        "bethas = [1,2,3,4]\n",
        "tp = np.zeros(4)\n",
        "L=10\n",
        "q=5\n",
        "J=1\n",
        "h=0.05\n",
        "\n",
        "for betha in bethas:\n",
        "  tp[betha-1]=equilibriumTime(L,q,J,h,betha,300,3000)[0]"
      ]
    },
    {
      "cell_type": "code",
      "execution_count": null,
      "metadata": {
        "id": "Pj0ww7yVFGdT"
      },
      "outputs": [],
      "source": [
        "print(\"tp for betha = 1:_ \",int(tp[0]*4),\", tp for betha = 2:_ \",int(tp[1]*4),\", tp for betha = 3:_ \",int(tp[2]*4),\", tp for betha = 4:_ \",int(tp[3]*4))\n",
        "tps5=np.array([int(tp[0]*4),int(tp[1]*4),int(tp[2]*4),int(tp[3]*4)])"
      ]
    },
    {
      "cell_type": "code",
      "execution_count": null,
      "metadata": {
        "colab": {
          "background_save": true
        },
        "id": "WpgTG3DDKxaO",
        "outputId": "adf36393-98fc-4c61-fa26-1f80e371ced4"
      },
      "outputs": [
        {
          "name": "stderr",
          "output_type": "stream",
          "text": [
            "/usr/local/lib/python3.7/dist-packages/ipykernel_launcher.py:28: RuntimeWarning: divide by zero encountered in true_divide\n"
          ]
        },
        {
          "data": {
            "image/png": "[encoded data removed]",
            "text/plain": [
              "<Figure size 432x288 with 1 Axes>"
            ]
          },
          "metadata": {},
          "output_type": "display_data"
        }
      ],
      "source": [
        "#And what about the correlation time for this h=0.05 and q = 2?\n",
        "q = 2\n",
        "h = 0.05\n",
        "J = 1\n",
        "betha = 4\n",
        "L=10\n",
        "N =L*L\n",
        "tp = 900\n",
        "m = 500\n",
        "n=100\n",
        "for i in range(4):\n",
        "  scorrelation = selfCorrelation(L,q,J,h,betha,tp,n,m)\n",
        "  steps = np.arange(m)\n",
        "  plt.plot(steps,scorrelation,label=\"realization \" + str(i + 1))\n",
        "plt.legend()\n",
        "plt.show()"
      ]
    },
    {
      "cell_type": "code",
      "execution_count": null,
      "metadata": {
        "colab": {
          "background_save": true
        },
        "id": "A_dS8SqiQ3n5"
      },
      "outputs": [],
      "source": [
        "#seems that the correlation time is biguer with this value of h, but is almost the same. lets us 500 as the correlation time"
      ]
    },
    {
      "cell_type": "code",
      "execution_count": null,
      "metadata": {
        "colab": {
          "background_save": true
        },
        "id": "cjJ32EVFdMsh",
        "outputId": "54ecc81a-1c63-4e9b-8dbe-c56e520150ca"
      },
      "outputs": [
        {
          "name": "stdout",
          "output_type": "stream",
          "text": [
            "0.0 0.04 0.08 0.12 0.16 0.2 0.24 0.28 0.32 0.36 0.4 0.44 0.48 0.52 0.56 0.6 0.64 0.68 0.72 0.76 0.8 0.84 0.88 0.92 0.96 1.0 1.04 1.08 1.12 1.16 1.2 1.24 1.28 1.32 1.36 1.4000000000000001 1.44 1.48 1.52 1.56 1.6 1.6400000000000001 1.68 1.72 1.76 1.8 1.84 1.8800000000000001 1.92 1.96 2.0 2.04 2.08 2.12 2.16 2.2 2.24 2.2800000000000002 2.32 2.36 2.4 2.44 2.48 2.52 2.56 2.6 2.64 2.68 2.72 2.7600000000000002 2.8000000000000003 2.84 2.88 2.92 2.96 3.0 3.04 3.08 3.12 3.16 3.2 3.24 3.2800000000000002 3.3200000000000003 3.36 3.4 3.44 3.48 3.52 3.56 3.6 3.64 3.68 3.72 3.7600000000000002 3.8000000000000003 3.84 3.88 3.92 3.96 "
          ]
        }
      ],
      "source": [
        "#Now, lets make the graphs. \n",
        "points = 100\n",
        "bethas = np.arange(points) * (4./points)\n",
        "q=2\n",
        "tc=500\n",
        "N=100\n",
        "h=0.05\n",
        "L=10\n",
        "meanM2 = np.zeros(points)\n",
        "meanE2 = np.zeros(points)\n",
        "errM2 = np.zeros(points)\n",
        "errE2 = np.zeros(points)\n",
        "k=0\n",
        "for betha in bethas:\n",
        "  print(betha, end = \" \")\n",
        "  if betha <= 1:\n",
        "    tp = tps2[0]\n",
        "  elif betha <= 2:\n",
        "    tp = tps2[1]\n",
        "  elif betha <= 3:\n",
        "    tp = tps2[2]\n",
        "  else:\n",
        "    tp = tps2[3]\n",
        "  sam = sampling(L,q,J,h,betha,tp,N,tc)\n",
        "  meanE2[k],meanM2[k] = np.mean(sam,axis=0)\n",
        "  errE2[k],errM2[k] = np.std(sam,axis=0)\n",
        "   \n",
        "  k += 1\n"
      ]
    },
    {
      "cell_type": "code",
      "execution_count": null,
      "metadata": {
        "colab": {
          "background_save": true
        },
        "id": "Z2PSCWvZUsVR",
        "outputId": "a9868e32-037a-4683-dfc5-0038e8b91e77"
      },
      "outputs": [
        {
          "data": {
            "image/png": "[encoded data removed]",
            "text/plain": [
              "<Figure size 432x288 with 1 Axes>"
            ]
          },
          "metadata": {},
          "output_type": "display_data"
        }
      ],
      "source": [
        "\n",
        "plt.xlabel(\"betha\")\n",
        "plt.ylabel(\"energy\")\n",
        "plt.title(\"energy in function of temperature for q =2\")\n",
        "plt.plot(bethas,meanE2, color = \"black\", label ='mean value')\n",
        "plt.plot(bethas,errE2 + meanE2, color = \"red\", linestyle='dashed', label ='error')\n",
        "plt.plot(bethas, meanE2 - errE2, color = \"red\", linestyle='dashed')\n",
        "plt.legend()\n",
        "plt.show()"
      ]
    },
    {
      "cell_type": "code",
      "execution_count": 149,
      "metadata": {
        "colab": {
          "base_uri": "https://localhost:8080/",
          "height": 312
        },
        "id": "nn8wNIteiKQq",
        "outputId": "44083371-9171-4360-f1cb-e8323b43db0e"
      },
      "outputs": [
        {
          "output_type": "stream",
          "name": "stderr",
          "text": [
            "No handles with labels found to put in legend.\n"
          ]
        },
        {
          "output_type": "display_data",
          "data": {
            "image/png": "[encoded data removed]",
            "text/plain": [
              "<Figure size 432x288 with 1 Axes>"
            ]
          },
          "metadata": {
            "needs_background": "light"
          }
        }
      ],
      "source": [
        "#fixing the error bars for magnetization\n",
        "errMup2 = np.array(errM2)\n",
        "errMdown2 = np.array(errM2)\n",
        "for i in range(points):\n",
        "  if errM2[i] + meanM2[i] > 1:\n",
        "    errMup2[i] = 1-meanM2[i]\n",
        "  if meanM2[i] - errM2[i] < 0:\n",
        "    errMdown[i] = 0\n",
        "\n",
        "\n",
        "\n",
        "plt.xlabel(\"betha\")\n",
        "plt.ylabel(\"magnetization\")\n",
        "plt.title(\"magnetization in function of temperature for q =2\")\n",
        "plt.errorbar(bethas,meanM2,yerr=errMdown2,uplims=True, color = \"black\", fmt='o')\n",
        "plt.errorbar(bethas,meanM2,yerr=errMup2,lolims=True, color = \"black\", fmt='o')\n",
        "#plt.errorbar(bethas, meanM2 - errM2, color = \"red\", linestyle='dashed')\n",
        "plt.legend()\n",
        "plt.show()\n"
      ]
    },
    {
      "cell_type": "code",
      "execution_count": null,
      "metadata": {
        "colab": {
          "background_save": true
        },
        "id": "wJ4sVdlflAg3",
        "outputId": "98b9d016-77fb-4c36-f82e-29b46844c35d"
      },
      "outputs": [
        {
          "data": {
            "image/png": "[encoded data removed]",
            "text/plain": [
              "<Figure size 432x288 with 1 Axes>"
            ]
          },
          "metadata": {},
          "output_type": "display_data"
        }
      ],
      "source": [
        "#And what about the correlation time for this h=0.05 and q = 5?\n",
        "q = 5\n",
        "h = 0.05\n",
        "J = 1\n",
        "betha = 4\n",
        "L=10\n",
        "N =L*L\n",
        "tp = 900\n",
        "m = 800\n",
        "n=100\n",
        "for i in range(4):\n",
        "  scorrelation = selfCorrelation(L,q,J,h,betha,tp,n,m)\n",
        "  steps = np.arange(m)\n",
        "  plt.plot(steps,scorrelation,label=\"realization \" + str(i + 1))\n",
        "plt.legend()\n",
        "plt.show()"
      ]
    },
    {
      "cell_type": "code",
      "execution_count": null,
      "metadata": {
        "colab": {
          "background_save": true
        },
        "id": "-S5o__8ClZEn",
        "outputId": "74c55d0e-d779-4f6c-bf0d-4efb3ea8e268"
      },
      "outputs": [
        {
          "name": "stdout",
          "output_type": "stream",
          "text": [
            "0.0 0.04 0.08 0.12 0.16 0.2 0.24 0.28 0.32 0.36 0.4 0.44 0.48 0.52 0.56 0.6 0.64 0.68 0.72 0.76 0.8 0.84 0.88 0.92 0.96 1.0 1.04 1.08 1.12 1.16 1.2 1.24 1.28 1.32 1.36 1.4000000000000001 1.44 1.48 1.52 1.56 1.6 1.6400000000000001 1.68 1.72 1.76 1.8 1.84 1.8800000000000001 1.92 1.96 2.0 2.04 2.08 2.12 2.16 2.2 2.24 2.2800000000000002 2.32 2.36 2.4 2.44 2.48 2.52 2.56 2.6 2.64 2.68 2.72 2.7600000000000002 2.8000000000000003 2.84 2.88 2.92 2.96 3.0 3.04 3.08 3.12 3.16 3.2 3.24 3.2800000000000002 3.3200000000000003 3.36 3.4 3.44 3.48 3.52 3.56 3.6 3.64 3.68 3.72 3.7600000000000002 3.8000000000000003 3.84 3.88 3.92 3.96 "
          ]
        }
      ],
      "source": [
        "#am going to use 700. Lets make the graphs: \n",
        "points = 100\n",
        "bethas = np.arange(points) * (4./points)\n",
        "q=5\n",
        "tc=700\n",
        "N=100\n",
        "h=0.05\n",
        "L=10\n",
        "meanM5 = np.zeros(points)\n",
        "meanE5 = np.zeros(points)\n",
        "errM5 = np.zeros(points)\n",
        "errE5 = np.zeros(points)\n",
        "k=0\n",
        "for betha in bethas:\n",
        "  print(betha, end = \" \")\n",
        "  if betha <= 1:\n",
        "    tp = tps5[0]\n",
        "  elif betha <= 2:\n",
        "    tp = tps5[1]\n",
        "  elif betha <= 3:\n",
        "    tp = tps5[2]\n",
        "  else:\n",
        "    tp = tps5[3]\n",
        "  sam = sampling(L,q,J,h,betha,tp,N,tc)\n",
        "  meanE5[k],meanM5[k] = np.mean(sam,axis=0)\n",
        "  errE5[k],errM5[k] = np.std(sam,axis=0)\n",
        "   \n",
        "  k += 1"
      ]
    },
    {
      "cell_type": "code",
      "execution_count": 151,
      "metadata": {
        "colab": {
          "base_uri": "https://localhost:8080/",
          "height": 295
        },
        "id": "crv8WNuImJhk",
        "outputId": "e8b15d31-ad5d-4ee8-f5f7-13e798cb2958"
      },
      "outputs": [
        {
          "output_type": "display_data",
          "data": {
            "image/png": "[encoded data removed]",
            "text/plain": [
              "<Figure size 432x288 with 1 Axes>"
            ]
          },
          "metadata": {
            "needs_background": "light"
          }
        }
      ],
      "source": [
        "plt.xlabel(\"betha\")\n",
        "plt.ylabel(\"energy\")\n",
        "plt.title(\"energy in function of temperature for q =5\")\n",
        "plt.plot(bethas,meanE5, color = \"black\", label ='mean value')\n",
        "plt.plot(bethas,errE5 + meanE5, color = \"red\", linestyle='dashed', label ='error')\n",
        "plt.plot(bethas, meanE5 - errE5, color = \"red\", linestyle='dashed')\n",
        "plt.legend()\n",
        "plt.show()"
      ]
    },
    {
      "cell_type": "code",
      "execution_count": 152,
      "metadata": {
        "colab": {
          "base_uri": "https://localhost:8080/",
          "height": 312
        },
        "id": "AERWLXZgoGVJ",
        "outputId": "faed248e-413b-41ec-cb49-56c242a0dbd0"
      },
      "outputs": [
        {
          "output_type": "stream",
          "name": "stderr",
          "text": [
            "No handles with labels found to put in legend.\n"
          ]
        },
        {
          "output_type": "display_data",
          "data": {
            "image/png": "[encoded data removed]",
            "text/plain": [
              "<Figure size 432x288 with 1 Axes>"
            ]
          },
          "metadata": {
            "needs_background": "light"
          }
        }
      ],
      "source": [
        "\n",
        "#fixing the error bars for magnetization\n",
        "errMup5 = np.array(errM5)\n",
        "errMdown5 = np.array(errM5)\n",
        "for i in range(points):\n",
        "  if errM5[i] + meanM5[i] > 1:\n",
        "    errMup5[i] = 1-meanM5[i]\n",
        "  if meanM5[i] - errM5[i] < 0:\n",
        "    errMdown5[i] = meanM5[i]\n",
        "\n",
        "\n",
        "\n",
        "plt.xlabel(\"betha\")\n",
        "plt.ylabel(\"magnetization\")\n",
        "plt.title(\"magnetization in function of temperature for q =5\")\n",
        "plt.errorbar(bethas,meanM5,yerr=errMdown5,uplims=True, color = \"black\", fmt='o')\n",
        "plt.errorbar(bethas,meanM5,yerr=errMup5,lolims=True, color = \"black\", fmt='o')\n",
        "#plt.plot(bethas, meanM - errM, color = \"red\", linestyle='dashed')\n",
        "plt.legend()\n",
        "plt.show()\n"
      ]
    },
    {
      "cell_type": "code",
      "execution_count": null,
      "metadata": {
        "id": "61nyk38LMFBr"
      },
      "outputs": [],
      "source": [
        ""
      ]
    }
  ],
  "metadata": {
    "colab": {
      "collapsed_sections": [],
      "name": "Copy of StatMechWithPython_TutorialProject_CarlosSoto.ipynb",
      "provenance": [],
      "authorship_tag": "ABX9TyOffzi4LHQzQ6PdG6C0inSu",
      "include_colab_link": true
    },
    "kernelspec": {
      "display_name": "Python 3",
      "name": "python3"
    },
    "language_info": {
      "name": "python"
    }
  },
  "nbformat": 4,
  "nbformat_minor": 0
}