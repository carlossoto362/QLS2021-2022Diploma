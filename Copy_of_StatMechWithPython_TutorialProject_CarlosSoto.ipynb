{
  "nbformat": 4,
  "nbformat_minor": 0,
  "metadata": {
    "colab": {
      "name": "Copy of StatMechWithPython_TutorialProject_CarlosSoto.ipynb",
      "provenance": [],
      "collapsed_sections": [],
      "authorship_tag": "ABX9TyNMaODW8ZbmNvooMHCicD15",
      "include_colab_link": true
    },
    "kernelspec": {
      "name": "python3",
      "display_name": "Python 3"
    },
    "language_info": {
      "name": "python"
    }
  },
  "cells": [
    {
      "cell_type": "markdown",
      "metadata": {
        "id": "view-in-github",
        "colab_type": "text"
      },
      "source": [
        "<a href=\"https://colab.research.google.com/github/carlossoto362/QLS2021-2022Diploma/blob/main/Copy_of_StatMechWithPython_TutorialProject_CarlosSoto.ipynb\" target=\"_parent\"><img src=\"https://colab.research.google.com/assets/colab-badge.svg\" alt=\"Open In Colab\"/></a>"
      ]
    },
    {
      "cell_type": "markdown",
      "metadata": {
        "id": "iKNNM5Y-_9Ip"
      },
      "source": [
        "# **Statistical Mechanics with Python: Tutorial project**\n",
        "*December 2021*\n",
        "\n",
        "*Proyect made by: Carlos Enmanuel Soto Lopez*\n",
        "\n",
        "*carlos.soto362@gmail.com / csoto_lo@ictp.it*\n",
        "\n",
        "\n",
        "## **The 2D Potts model**\n",
        "This is the tutorial project in the Statistical Mechanics with python curse. The 2D Potts model is a two dimentional lattice with $N = L\\times L$ spins, each of them can be in one of *q* diferent colors $s_i=(1,2,\\dots,q)$.\n",
        "\n",
        "The Hamiltonian of this system is,\n",
        "\\begin{equation}\n",
        "H(x) = -\\sum _{(i,j)}J\\delta (s_i,s_j) - \\sum _{i} h \\delta (s_i,1),\n",
        "\\end{equation}\n",
        "where $J$ is the coupling energy constant, $h$ a magnetic field. The sum over $(i,j)$ is the sum over nearest neighbors only, and $i = (i_x,i_y), j = (j_x, j_y) \\in (0,L]\\times (0,L]$ . The $\\delta()$ is the kronecker delta. For this problem I have to use periodic boundary conditions.\n",
        "\n",
        "### **Programing part** ###\n",
        "This is a Metropolis Montecarlo simulator for the 2D Potts model of any number of colors q. \n",
        "\n",
        "- Write a function that takes as arguments a 2D array of $L \\times L$ spins, $\\vec{s} = {s_{1,1},...,s_{L,L}} (s \\in 0,1,...,q )$, the coupling constant $J$, and the\n",
        "magnetic field $h$ and returns the energy of that configuration $\\vec{s}$."
      ]
    },
    {
      "cell_type": "code",
      "metadata": {
        "id": "H4n8rTsTEkxV"
      },
      "source": [
        "#Proyect made by: Carlos Enmanuel Soto Lopez\n",
        "#carlos.soto362@gmail.com / csoto_lo@ictp.it\n",
        "#https://github.com/carlossoto362/QLS2021-2022Diploma\n",
        "\n",
        "#This proyect is a Metropolis Montecralo simulator for a 2D Potts model of any number of colors q. \n",
        "\n",
        "import numpy as np\n",
        "import matplotlib.pyplot as plt\n",
        "\n",
        "\n",
        "\n",
        "###########################################################\n",
        "#For the function of energy, I like to define functions for the spin on the left, right, up and down first:\n",
        "def up(x,y,L):\n",
        "  \"\"\"\n",
        "  left(x,y) is a numpy array of lengt 2, with the coordinates of the spin at the left of the coordinates x,y.\n",
        "  L is the length of one dimention of the matrix.\n",
        "  \"\"\"\n",
        "  if x == 0:\n",
        "    l = np.array([L-1,y])\n",
        "  else:\n",
        "    l = np.array([x-1,y])\n",
        "  return l\n",
        "\n",
        "def down(x,y,L):\n",
        "  \"\"\"\n",
        "  right(x,y) is a numpy array of lengt 2, with the coordinates of the spin at the right of the coordinates x,y.\n",
        "  L is the length of one dimention of the matrix.\n",
        "  \"\"\"\n",
        "  if x == L-1:\n",
        "    l = np.array([0,y])\n",
        "  else:\n",
        "    l = np.array([x+1,y])\n",
        "  return l\n",
        "\n",
        "def right(x,y,L):\n",
        "  \"\"\"\n",
        "  up(x,y) is a numpy array of lengt 2, with the coordinates of the spin up to the coordinates x,y.\n",
        "  L is the length of one dimention of the matrix.\n",
        "  \"\"\"\n",
        "  if y == L-1:\n",
        "    l = np.array([x,0])\n",
        "  else:\n",
        "    l = np.array([x,y+1])\n",
        "  return l\n",
        "\n",
        "def left(x,y,L):\n",
        "  \"\"\"\n",
        "  down(x,y) is a numpy array of lengt 2, with the coordinates of the spin down of the coordinates x,y.\n",
        "  L is the length of one dimention of the matrix.\n",
        "  \"\"\"\n",
        "  if y == 0:\n",
        "    l = np.array([x,L-1])\n",
        "  else:\n",
        "    l = np.array([x,y-1])\n",
        "  return l\n",
        "\n",
        "############################################################\n",
        "#Lets defin the delta functions as well\n",
        "def delta1(s):\n",
        "  if s == 1:\n",
        "    r = 1\n",
        "  else:\n",
        "    r = 0\n",
        "  return r\n",
        "\n",
        "def delta2(s1,s2):\n",
        "  if s1 == s2:\n",
        "    r = 1\n",
        "  else:\n",
        "    r = 0\n",
        "  return r\n",
        "\n",
        "############################################################\n",
        "#Now lets define the function that returns the energy. By the way, I will not use this function XD. \n",
        "#I will use the function that calculates the diference in energy, which will only depend on the neighbors.\n",
        "\n",
        "def Energy(Matrix2D,J,h):\n",
        "  \"\"\"\n",
        "    Energy(Matrix2D,J,h) is a float number, Matrix2D a LxL array with integer values between 0 and q, J and h are float numbers.\n",
        "  \"\"\"\n",
        "  L = Matrix2D.shape[0]\n",
        "  #the sum over the individual elements is easy, the problem is that the sum over the neighbors will count two times each interaction, \n",
        "  #so, dividing by to will lead to the correct result, and is hard in the sence that I can't do it with simple matrix operations. \n",
        "  H = 0\n",
        "  for i in range(0,L):\n",
        "    for j in range(0,L):\n",
        "      H += - h * delta1(Matrix2D[i,j]) - (J/2) * ( delta2(Matrix2D[i,j],Matrix2D[left(i,j,L)[0],left(i,j,L)[1]]) + \\\n",
        "                                                  delta2(Matrix2D[i,j],Matrix2D[right(i,j,L)[0],right(i,j,L)[1]]) + \\\n",
        "                                                  delta2(Matrix2D[i,j],Matrix2D[up(i,j,L)[0],up(i,j,L)[1]]) + \\\n",
        "                                                  delta2(Matrix2D[i,j],Matrix2D[down(i,j,L)[0],down(i,j,L)[1]]))\n",
        "  return H\n",
        "\n",
        "    "
      ],
      "execution_count": 13,
      "outputs": []
    },
    {
      "cell_type": "markdown",
      "metadata": {
        "id": "YLwLZ64DlqfI"
      },
      "source": [
        "Write a function that compute the value of the magnetization $m_1$ of the sequence $m_1(\\vec{s})$ defined as the percentage of the sites wich are in the $q=1$ color state (normalized between 0 and 1)."
      ]
    },
    {
      "cell_type": "code",
      "metadata": {
        "id": "lSzBrzSUzGWn"
      },
      "source": [
        "def m1(Matrix2D):\n",
        "  \"\"\"\n",
        "  m1(Matrix2D) counts the number of elemets on the matrix if they are equal to 1, and normalized the result with respect to the total number of elements on the matrix.\n",
        "  \"\"\"\n",
        "  L = Matrix2D.shape[0]\n",
        "  M = (Matrix2D==1).sum()/(L**2)\n",
        "  return M\n",
        "  \n",
        " "
      ],
      "execution_count": 2,
      "outputs": []
    },
    {
      "cell_type": "markdown",
      "metadata": {
        "id": "CxuLdAyMqFX2"
      },
      "source": [
        "Check that for a lattice of homogeneous color (all sites with $s = 1$, or\n",
        "$s = 2$ etc.) and $h = 0.1$ the first function that you wrote returns the\n",
        "energy $−J ∗N ∗2 −N ∗h$ for the case of s = 1 and $−J ∗N ∗2$ for all other\n",
        "cases"
      ]
    },
    {
      "cell_type": "code",
      "metadata": {
        "colab": {
          "base_uri": "https://localhost:8080/"
        },
        "id": "sxqWBfkNpn7N",
        "outputId": "633d89d9-afb2-4444-ba22-7dff435c7fa7"
      },
      "source": [
        "\n",
        "###########################################################\n",
        "#Defining two simple matrix of dimention 5x5, one with ones and the other with twos. \n",
        "N = 5*5\n",
        "h = 0.1\n",
        "J = 1.\n",
        "\n",
        "MatrixOnes = np.ones((5,5))\n",
        "print(MatrixOnes,\"\\n\")\n",
        "print(\"Energy expected;_\", -J*N*2-N*h , \"Energy obteind:_\",Energy(MatrixOnes,J,h),\"\\n\")\n",
        "MatrixTwos = MatrixOnes*2\n",
        "print(MatrixTwos,\"\\n\")\n",
        "print(\"Energy Expected:_\", -J*N*2 , \"Energy obteined:_\",Energy(MatrixTwos,1.,0.1))\n",
        "\n"
      ],
      "execution_count": 4,
      "outputs": [
        {
          "output_type": "stream",
          "name": "stdout",
          "text": [
            "[[1. 1. 1. 1. 1.]\n",
            " [1. 1. 1. 1. 1.]\n",
            " [1. 1. 1. 1. 1.]\n",
            " [1. 1. 1. 1. 1.]\n",
            " [1. 1. 1. 1. 1.]] \n",
            "\n",
            "Energy expected;_ -52.5 Energy obteind:_ -52.50000000000002 \n",
            "\n",
            "[[2. 2. 2. 2. 2.]\n",
            " [2. 2. 2. 2. 2.]\n",
            " [2. 2. 2. 2. 2.]\n",
            " [2. 2. 2. 2. 2.]\n",
            " [2. 2. 2. 2. 2.]] \n",
            "\n",
            "Energy Expected:_ -50.0 Energy obteined:_ -50.0\n"
          ]
        }
      ]
    },
    {
      "cell_type": "markdown",
      "metadata": {
        "id": "q3972dG5sHgh"
      },
      "source": [
        "Check that for a lattice of homogeneous color (all sites with $s = 1$, or\n",
        "$s = 2$ etc.) the second function shows a magnetization $m1 = 1$ for\n",
        "the $s = 1$ color and $m1 = 0$ for all other colors."
      ]
    },
    {
      "cell_type": "code",
      "metadata": {
        "colab": {
          "base_uri": "https://localhost:8080/"
        },
        "id": "N2GkhoaHrAG-",
        "outputId": "786ce812-5829-425d-97bb-2fcbf3181ffb"
      },
      "source": [
        "print(\"Magnetization expected:_\", 1, \"obteined:_\",m1(MatrixOnes),\"\\n\")\n",
        "print(\"Magnetization expected:_\", 0, \"obteined:_\",m1(MatrixTwos),\"\\n\")"
      ],
      "execution_count": 5,
      "outputs": [
        {
          "output_type": "stream",
          "name": "stdout",
          "text": [
            "Magnetization expected:_ 1 obteined:_ 1.0 \n",
            "\n",
            "Magnetization expected:_ 0 obteined:_ 0.0 \n",
            "\n"
          ]
        }
      ]
    },
    {
      "cell_type": "markdown",
      "metadata": {
        "id": "e7JTcVHAspkZ"
      },
      "source": [
        "Check that for a sequence of randomly generated lattices with number of\n",
        "colors q, the energy is distributed around $−J ∗N ∗2/q −N ∗h/q$ and the\n",
        "magnetization is approximately $1/q$ (check for a few values of q)."
      ]
    },
    {
      "cell_type": "code",
      "metadata": {
        "id": "WmVBpsc7sg_s"
      },
      "source": [
        "###########################################################\n",
        "#this part include code that was not teached in the class, but i think is a nice inclusion. Of course, it can be ignored...\n",
        "#It ask to the user for the number of colors.\n",
        "\"\"\"\n",
        "q = input(\"write the number of colors please_ \")\n",
        "flag = False\n",
        "while flag == False:\n",
        "  try:\n",
        "    q = int(q)\n",
        "    flag = True\n",
        "  except ValueError:\n",
        "    q = input(\"Incorrect input, try with a number, not an integer_ \")\n",
        "\"\"\"\n",
        "#############################################################\n",
        "#if the prebious part is on, this part should be off\n",
        "q=3\n",
        "#############################################################\n",
        "#Creating the list of m  matrices of dimention N\n",
        "np.random.seed(2021)\n",
        "m = 100\n",
        "L = 100\n",
        "N = L*L\n",
        "Series = (np.random.random((m,L,L))*q).astype(int) + 1\n"
      ],
      "execution_count": 6,
      "outputs": []
    },
    {
      "cell_type": "code",
      "metadata": {
        "id": "adZBglvpuWAh"
      },
      "source": [
        "##############################################################\n",
        "#Calculating the average energy and magnetization, with magnetic field h and interaction constant J\n",
        "h=0.1\n",
        "J=1\n",
        "Energys = np.empty(m)\n",
        "Magnetizations = np.empty(m)\n",
        "\n",
        "for i in range(m):\n",
        "  Energys[i] = Energy(Series[i],J,h)\n",
        "  Magnetizations[i] = m1(Series[i])"
      ],
      "execution_count": 7,
      "outputs": []
    },
    {
      "cell_type": "code",
      "metadata": {
        "colab": {
          "base_uri": "https://localhost:8080/"
        },
        "id": "FCzb2bch0pHl",
        "outputId": "849fe52d-05e5-4543-d7c0-6de5a873894e"
      },
      "source": [
        "AverageEnergy = Energys.mean()\n",
        "DeviationEnergy = Energys.std()\n",
        "AverageMagnetization = Magnetizations.mean()\n",
        "DeviationMagnetization = Magnetizations.std()\n",
        "print(\"Expected Energy: \",-(J*N*2 / q) - (N*h)/q, \"Energy average obteined: \",round(AverageEnergy,2),\"+-\",round(DeviationEnergy,2))\n",
        "print(\"Expected Magnetization: \",round(1/q,2), \"Magnetization average obteined: \",round(AverageMagnetization,2),\"+-\",round(DeviationMagnetization,2))"
      ],
      "execution_count": 8,
      "outputs": [
        {
          "output_type": "stream",
          "name": "stdout",
          "text": [
            "Expected Energy:  -7000.0 Energy average obteined:  -7004.91 +- 63.25\n",
            "Expected Magnetization:  0.33 Magnetization average obteined:  0.33 +- 0.01\n"
          ]
        }
      ]
    },
    {
      "cell_type": "markdown",
      "metadata": {
        "id": "6Zc32fQaWMlQ"
      },
      "source": [
        "## **Metropolis Markov chain**\n",
        "\n",
        "I have to use the metropolis algoritm to sample from the canonical ensamble of $\\vec{s}$. The algoritm I will use is sumiriced in the next steps:\n",
        "\n",
        "- Generate a rando sample $\\vec{s}$.\n",
        "- Generate a new random sample $\\vec{s}'$, equal to the sample $\\vec{s}$, but with one spin changed. \n",
        "- If the diference in the energy $\\Delta E \\leq 0$, accept the new sample, if not, accept the new sample with probability $p = e^{-\\beta \\Delta E}$.\n",
        "- Repit the procedure at least a number of times $n > q^N$, where $q^N$ is the total number of posible configurations.  This is to ensure that the algoritm conciders a sustancial amount of all the posible configurations.  \n"
      ]
    },
    {
      "cell_type": "code",
      "metadata": {
        "id": "CEvu3wpQ1d9W"
      },
      "source": [
        "#Defining the diference in energy:\n",
        "#When one of the spins is  change, the diference in the energy only concerns the spin that was changed and his neightbours. \n",
        "def DeltaEnergy(Matrix2D,position,newQ,J,h):\n",
        "  \"\"\"\n",
        "  DeltaEnergy is a float equal to the diference betwin the function Energy(Matrix2D,J,h) of the lattice Matrix2D and the lattice Matrix2D with the element \n",
        "  \"position\" change to \"newQ\". Position is a numpy array of two elements, equal to the coordinates of in the Matrix2D that was changed. \n",
        "  \"\"\"\n",
        "  L = np.shape(Matrix2D)[0]\n",
        "  i=position[0]\n",
        "  j=position[1]\n",
        "  H1 = - h * delta1(Matrix2D[i,j]) - (J/2) * ( delta2(Matrix2D[i,j],Matrix2D[left(i,j,L)[0],left(i,j,L)[1]]) + \\\n",
        "                                                  delta2(Matrix2D[i,j],Matrix2D[right(i,j,L)[0],right(i,j,L)[1]]) + \\\n",
        "                                                  delta2(Matrix2D[i,j],Matrix2D[up(i,j,L)[0],up(i,j,L)[1]]) + \\\n",
        "                                                  delta2(Matrix2D[i,j],Matrix2D[down(i,j,L)[0],down(i,j,L)[1]]))\n",
        "  \n",
        "  H2 = - h * delta1(newQ) - (J/2) * ( delta2(newQ,Matrix2D[left(i,j,L)[0],left(i,j,L)[1]]) + \\\n",
        "                                                  delta2(newQ,Matrix2D[right(i,j,L)[0],right(i,j,L)[1]]) + \\\n",
        "                                                  delta2(newQ,Matrix2D[up(i,j,L)[0],up(i,j,L)[1]]) + \\\n",
        "                                                  delta2(newQ,Matrix2D[down(i,j,L)[0],down(i,j,L)[1]]))\n",
        "  return H2 - H1"
      ],
      "execution_count": 9,
      "outputs": []
    },
    {
      "cell_type": "markdown",
      "metadata": {
        "id": "6qFvIicVdrXY"
      },
      "source": [
        "Checking that, given $\\vec{s}= ((1,2,2),(2,1,1),(2,1,1)),\\vec{s}'= ((2,2,2),(2,1,1),(2,1,1)), J = 1,\n",
        "h = 0.1$ I must obtain $\\Delta E = −1.9$."
      ]
    },
    {
      "cell_type": "code",
      "metadata": {
        "colab": {
          "base_uri": "https://localhost:8080/"
        },
        "id": "ofXlA_VodhB7",
        "outputId": "b3bad4f4-12a1-4883-d640-aad326d14aeb"
      },
      "source": [
        "s1 = np.array([[1,2,2],[2,1,1],[2,1,1]])\n",
        "s2 = np.array([[2,2,2],[2,1,1],[2,1,1]])\n",
        "J = 1\n",
        "h = 0.1\n",
        "position = np.array([0,0])\n",
        "newQ = 2.\n",
        "print(\"Delta energy:_ \",DeltaEnergy(s1,position,newQ,J,h))"
      ],
      "execution_count": 10,
      "outputs": [
        {
          "output_type": "stream",
          "name": "stdout",
          "text": [
            "Delta energy:_  -1.9\n"
          ]
        }
      ]
    },
    {
      "cell_type": "markdown",
      "metadata": {
        "id": "fQ9fGtayllZ5"
      },
      "source": [
        "Writing a function that takes as arguments a configuration, $\\vec{s}$, the number\n",
        "of possible colors $q$, the coupling constant $J$, the magnetic field $h$ and the\n",
        "inverse temperature $β$, and returns a new configuration according to the\n",
        "Metropolis prescription."
      ]
    },
    {
      "cell_type": "code",
      "metadata": {
        "id": "pDFbgXDheuM1"
      },
      "source": [
        "def metropolisStep(Matrix2D,q,J,h,beta):\n",
        "  \"\"\"\n",
        "  metropolisStep takes a matrix, choose at random one coordenate, reeds the value of the coordenate and chooses an integer diferent from his value, \n",
        "  less than q. If the diference in energy is less than 0, returns the Matrix2D but whith the value changed, if not, returns the matrix changed with\n",
        "  probability exp{-beta * DeltaEnergy}.\n",
        "  \"\"\"\n",
        "  L = np.shape(Matrix2D)[0]\n",
        "  position = (np.random.random((2))*L).astype(int) \n",
        "  value = Matrix2D[position[0],position[1]]\n",
        "  flag = False\n",
        "  while flag == False:\n",
        "    newQ = int(np.random.random()*q) + 1\n",
        "    if newQ != value:\n",
        "      flag = True\n",
        "    else:\n",
        "      pass\n",
        "  dE = DeltaEnergy(Matrix2D,position,newQ,J,h)\n",
        "  if dE <= 0:\n",
        "    Matrix2D[position[0],position[1]] = newQ\n",
        "    return Matrix2D, dE\n",
        "  else:\n",
        "    if (np.random.random() < np.exp(-beta *dE)):\n",
        "      Matrix2D[position[0],position[1]] = newQ\n",
        "      return Matrix2D, dE\n",
        "    else:\n",
        "      return Matrix2D, 0\n"
      ],
      "execution_count": 11,
      "outputs": []
    },
    {
      "cell_type": "markdown",
      "metadata": {
        "id": "lRc1xoDosJP-"
      },
      "source": [
        "Iterating the function above for some steps starting from a random initial\n",
        "configuration of N = 20 ×20 spins. Checking that, when q = 2, h = 0.1 and\n",
        "choosing a small temperature β = 10, I end up in a configuration where\n",
        "all the sites have color 1 after enough iterations"
      ]
    },
    {
      "cell_type": "code",
      "metadata": {
        "colab": {
          "base_uri": "https://localhost:8080/"
        },
        "id": "WzfIgeFJsACi",
        "outputId": "772b9603-6293-46cc-b82c-e660e4d44102"
      },
      "source": [
        "np.random.seed(2021)\n",
        "L = 20\n",
        "N = L*L\n",
        "q = 2\n",
        "h = 0.1\n",
        "J = 1\n",
        "betha = 10\n",
        "Matrix2D = (np.random.random((L,L))*q).astype(int) + 1\n",
        "for k in range(10000):\n",
        "  Matrix2D = metropolisStep(Matrix2D,q,J,h,betha)[0]\n",
        "print(Matrix2D)\n"
      ],
      "execution_count": 12,
      "outputs": [
        {
          "output_type": "stream",
          "name": "stdout",
          "text": [
            "[[1 1 1 1 1 1 1 1 1 1 1 1 1 1 1 1 1 1 1 1]\n",
            " [1 1 1 1 1 1 1 1 1 1 1 1 1 1 1 1 1 1 1 1]\n",
            " [1 1 1 1 1 1 1 1 1 1 1 1 1 1 1 1 1 1 1 1]\n",
            " [1 1 1 1 1 1 1 1 1 1 1 1 1 1 1 1 1 1 1 1]\n",
            " [1 1 1 1 1 1 1 1 1 1 1 1 1 1 1 1 1 1 1 1]\n",
            " [1 1 1 1 1 1 1 1 1 1 1 1 1 1 1 1 1 1 1 1]\n",
            " [1 1 1 1 1 1 1 1 1 1 1 1 1 1 1 1 1 1 1 1]\n",
            " [1 1 1 1 1 1 1 1 1 1 1 1 1 1 1 1 1 1 1 1]\n",
            " [1 1 1 1 1 1 1 1 1 1 1 1 1 1 1 1 1 1 1 1]\n",
            " [1 1 1 1 1 1 1 1 1 1 1 1 1 1 1 1 1 1 1 1]\n",
            " [1 1 1 1 1 1 1 1 1 1 1 1 1 1 1 1 1 1 1 1]\n",
            " [1 1 1 1 1 1 1 1 1 1 1 1 1 1 1 1 1 1 1 1]\n",
            " [1 1 1 1 1 1 1 1 1 1 1 1 1 1 1 1 1 1 1 1]\n",
            " [1 1 1 1 1 1 1 1 1 1 1 1 1 1 1 1 1 1 1 1]\n",
            " [1 1 1 1 1 1 1 1 1 1 1 1 1 1 1 1 1 1 1 1]\n",
            " [1 1 1 1 1 1 1 1 1 1 1 1 1 1 1 1 1 1 1 1]\n",
            " [1 1 1 1 1 1 1 1 1 1 1 1 1 1 1 1 1 1 1 1]\n",
            " [1 1 1 1 1 1 1 1 1 1 1 1 1 1 1 1 1 1 1 1]\n",
            " [1 1 1 1 1 1 1 1 1 1 1 1 1 1 1 1 1 1 1 1]\n",
            " [1 1 1 1 1 1 1 1 1 1 1 1 1 1 1 1 1 1 1 1]]\n"
          ]
        }
      ]
    },
    {
      "cell_type": "markdown",
      "metadata": {
        "id": "eSVFY_-WtqhY"
      },
      "source": [
        "## **Generating samples and computing the magnetization**\n",
        "\n",
        "Write a function that generates samples of energy and magnetization with\n",
        "the Metropolis algorithm. The function takes as argument the length of\n",
        "the chain L, the inverse temperature β, the number of colors q, the coupling constant J, the magnetic field h, the equilibration time $t_e$ and the\n",
        "number of samples $N_{samples}$. It returns the list/array of the $N_{samples}$ generated samples."
      ]
    },
    {
      "cell_type": "code",
      "metadata": {
        "id": "7I63UGj5tNCF"
      },
      "source": [
        "#Lets get the equilibration time: The time needed in orther to get to the stable distribution.\n",
        "#Generating the random matrix:\n",
        "#caclulating the initial magnetization, and storing the magnetization after m iterations, for 5 values of L\n",
        "\n",
        "q = 2\n",
        "h = 0.1\n",
        "J = 1\n",
        "betha = 10\n",
        "m=20000\n",
        "np.random.seed(2021)\n",
        "MagnetizationList = np.empty((m,8))\n",
        "r=0\n",
        "for L in [5,10,15,20,25,30,35,40]:\n",
        "  N = L*L\n",
        "  Matrix2D = (np.random.random((L,L))*q).astype(int) + 1\n",
        "\n",
        "  for k in range (m):\n",
        "   MagnetizationList[k,r] = m1(Matrix2D)\n",
        "   Matrix2D = metropolisStep(Matrix2D,q,J,h,betha)[0]\n",
        "  r = r+1\n",
        "steps = np.arange(m)"
      ],
      "execution_count": 36,
      "outputs": []
    },
    {
      "cell_type": "code",
      "metadata": {
        "colab": {
          "base_uri": "https://localhost:8080/",
          "height": 295
        },
        "id": "Fw7L3nMrcD5n",
        "outputId": "089496d0-8da6-4d4e-d51b-c9ffce2b3d6c"
      },
      "source": [
        "plt.title(\"Magnetization vrs steps\")\n",
        "plt.xlabel(\"number of steps\")\n",
        "plt.ylabel(\"magnetization\")\n",
        "\n",
        "for k in range(8):\n",
        "  plt.plot(steps,MagnetizationList[:,k], label= \"Size N = \" + str(k*5 + 5))\n",
        "plt.legend()\n",
        "plt.show()"
      ],
      "execution_count": 37,
      "outputs": [
        {
          "output_type": "display_data",
          "data": {
            "image/png": "[encoded data removed]",
            "text/plain": [
              "<Figure size 432x288 with 1 Axes>"
            ]
          },
          "metadata": {
            "needs_background": "light"
          }
        }
      ]
    },
    {
      "cell_type": "code",
      "metadata": {
        "colab": {
          "base_uri": "https://localhost:8080/",
          "height": 317
        },
        "id": "TpeoXSSFjK53",
        "outputId": "2bcbc860-f1a6-4981-a485-9731bf436fc8"
      },
      "source": [
        "#The time depends on the size of the lattice. The shape of this curves is similar to the function 1-e**{-x/tp}, where tp would be a \n",
        "#mesure of the equilibrium time. Lets fit this data to this function, using the librery scipy, with the function scipy.optimize.curve_fit :\n",
        "from scipy.optimize import curve_fit as scurve\n",
        "def func(x, tp,a,b):\n",
        "  return (1-np.exp(-x/tp))**a - b\n",
        "#popt are the optimal parameters so that the sum of the squared residuals of f(xdata, *popt) - ydata is minimized.\n",
        "#pcov is the covariance\n",
        "k=5\n",
        "popt, pcov = scurve(func, steps, MagnetizationList[:,k]) \n",
        "#am using L = k, using 3*tp as the equilibrium time:\n",
        "print(\"equilibrium time:_ \", int(3*popt[0]))\n",
        "\n",
        "plt.plot(steps,MagnetizationList[:,k], label= \"Size N = \" + str(5*k + 5))\n",
        "plt.plot(steps, func(steps, *popt), label='fit')\n",
        "plt.legend()\n",
        "plt.show()\n"
      ],
      "execution_count": 82,
      "outputs": [
        {
          "output_type": "stream",
          "name": "stderr",
          "text": [
            "/usr/local/lib/python3.7/dist-packages/ipykernel_launcher.py:5: RuntimeWarning: divide by zero encountered in power\n",
            "  \"\"\"\n"
          ]
        },
        {
          "output_type": "stream",
          "name": "stdout",
          "text": [
            "equilibrium time:_  16188\n"
          ]
        },
        {
          "output_type": "display_data",
          "data": {
            "image/png": "[encoded data removed]",
            "text/plain": [
              "<Figure size 432x288 with 1 Axes>"
            ]
          },
          "metadata": {
            "needs_background": "light"
          }
        }
      ]
    },
    {
      "cell_type": "code",
      "metadata": {
        "colab": {
          "base_uri": "https://localhost:8080/"
        },
        "id": "Uu0b8B1_rJXS",
        "outputId": "5a085cf6-5256-4a11-fdee-627ac484b438"
      },
      "source": [
        "#defining a function that does this procedure for any lattice:\n",
        "def equilibriumTime(magnetizationList):\n",
        "  \"\"\"\n",
        "  equilibriumTime(magnetizationList) returns an aproximation of the equilibrium time, magnetizationList is a numpy array with values of the \n",
        "  magnetizations. It works for small temperatures and small lattices. It has been tried with q, the number of colors, equal to 2.\n",
        "  \"\"\"\n",
        "  k = np.shape(magnetizationList)[0]\n",
        "  steps = np.arange(k)\n",
        "  tp = int(scurve(func, steps, magnetizationList)[0][0]*3)\n",
        "  return tp\n",
        "\n",
        "print(equilibriumTime(MagnetizationList[:,4]))"
      ],
      "execution_count": 79,
      "outputs": [
        {
          "output_type": "stream",
          "name": "stdout",
          "text": [
            "7355\n"
          ]
        },
        {
          "output_type": "stream",
          "name": "stderr",
          "text": [
            "/usr/local/lib/python3.7/dist-packages/ipykernel_launcher.py:5: RuntimeWarning: divide by zero encountered in power\n",
            "  \"\"\"\n"
          ]
        }
      ]
    },
    {
      "cell_type": "code",
      "metadata": {
        "id": "fpJIWFLRuEzO"
      },
      "source": [
        "#the previous procedure only works with low temperatures!!!\n",
        "#Now lets analice the correlation time:\n",
        "#The idea is to make n realizations of the same experiment, and see how the correlation time evolves, for m events after the time tp. \n",
        "#Guiven an equilibrium time tp:\n",
        "def selfCorrelation(Matrix2D,q,J,h,beta,tp,n,m):\n",
        "  \"\"\"\n",
        "  selfCorrelation(Matrix2D,J,h,q,tp,n,m) returns an array with the m values of the autocorrelation after the equilibrium time tp has pass. \n",
        "  \"\"\"\n",
        "  prod = np.zeros(m)\n",
        "  MomentInit = np.zeros((n))\n",
        "  MomentTwo = np.zeros((n,m))\n",
        "  products = np.zeros((n,m))\n",
        "  for i in range(n):\n",
        "    for _ in range(tp):\n",
        "      Matrix = metropolisStep(Matrix2D,q,J,h,beta)[0]\n",
        "    magnetizationInit = m1(Matrix)\n",
        "    MomentInit[i] = magnetizationInit\n",
        "    for j in range(m):\n",
        "      Matrix = metropolisStep(Matrix,q,J,h,beta)[0]\n",
        "      mag = m1(Matrix)\n",
        "      MomentTwo[i,j]=mag\n",
        "      products[i,j]=MomentInit[i]*mag\n",
        "  stdM1 = np.std(MomentInit) \n",
        "  meanM1 = np.mean(MomentInit)\n",
        "  stdM2 = np.std(MomentTwo,axis=0)\n",
        "  meanM2 = np.mean(MomentTwo,axis =0)\n",
        "  meanM1M2 = np.mean(products,axis=0)\n",
        "  return (meanM1M2 - meanM1 * meanM2)/(stdM1 * stdM2)"
      ],
      "execution_count": 96,
      "outputs": []
    },
    {
      "cell_type": "code",
      "metadata": {
        "colab": {
          "base_uri": "https://localhost:8080/",
          "height": 268
        },
        "id": "O8bvJeKSF_YD",
        "outputId": "87860d12-a935-4445-8b40-294de654ca7c"
      },
      "source": [
        "#lets tried it\n",
        "q = 2\n",
        "h = 0.1\n",
        "J = 1\n",
        "betha = 2\n",
        "L=4\n",
        "N =L*L\n",
        "Matrix2D = (np.random.random((L,L))*q).astype(int) + 1\n",
        "tp = 7355\n",
        "m = 2*L*L\n",
        "n=100\n",
        "scorrelation = selfCorrelation(Matrix2D,q,J,h,betha,tp,n,m)\n",
        "steps = np.arange(m)\n",
        "plt.plot(steps,scorrelation)\n",
        "plt.show()"
      ],
      "execution_count": 97,
      "outputs": [
        {
          "output_type": "display_data",
          "data": {
            "image/png": "[encoded data removed]",
            "text/plain": [
              "<Figure size 432x288 with 1 Axes>"
            ]
          },
          "metadata": {
            "needs_background": "light"
          }
        }
      ]
    },
    {
      "cell_type": "code",
      "metadata": {
        "id": "L_UZyUQ9HHJ4"
      },
      "source": [
        "#this problem has the inconvinient of been too long and computationaly complicated. Using the fact that 2*L*L seems to work fine, \n",
        "#that is the value that I will use. Defining the sampling:\n",
        "\n",
        "def sampling(L,q,J,h,betha,tp,N):\n",
        "  \"\"\"\n",
        "  sampling(L,q,J,h,betha,tp,N) creates an array of lengt N with the energies and magnetization of a lattice in the potts model, of leng L,\n",
        "  with interaction constant J, magnetic field h, q colors, energy betha and equilibrium time tp. I'm going to asume that the correlation\n",
        "  time is equal to 2*L*L. returns a numpy array of dimention (N,2), with N tuplets of energy and momentum. \n",
        "  \"\"\"\n",
        "  sample = np.zeros((N,2))\n",
        "  Matrix = (np.random.random((L,L))*q).astype(int) + 1\n",
        "  for _ in range(tp):\n",
        "    Matrix = metropolisStep(Matrix,q,J,h,betha)[0]\n",
        "  for i in range(N):\n",
        "    sample[i,0]=Energy(Matrix,J,h)\n",
        "    sample[i,1]=m1(Matrix)\n",
        "    for _ in range(2*L*L):\n",
        "      Matrix = metropolisStep(Matrix,q,J,h,betha)[0]\n",
        "  return sample\n",
        "  "
      ],
      "execution_count": 106,
      "outputs": []
    },
    {
      "cell_type": "code",
      "metadata": {
        "colab": {
          "base_uri": "https://localhost:8080/"
        },
        "id": "AZpx5Z8yO3rX",
        "outputId": "bf675a61-021c-46d2-a816-62c7bf7e31a1"
      },
      "source": [
        "#tring the function:\n",
        "print(sampling(5,2,1,0.2,2,7000,20))"
      ],
      "execution_count": 107,
      "outputs": [
        {
          "output_type": "stream",
          "name": "stdout",
          "text": [
            "[[-50.8    0.96]\n",
            " [-48.6    0.92]\n",
            " [-55.     1.  ]\n",
            " [-50.8    0.96]\n",
            " [-55.     1.  ]\n",
            " [-55.     1.  ]\n",
            " [-55.     1.  ]\n",
            " [-55.     1.  ]\n",
            " [-55.     1.  ]\n",
            " [-55.     1.  ]\n",
            " [-55.     1.  ]\n",
            " [-55.     1.  ]\n",
            " [-55.     1.  ]\n",
            " [-55.     1.  ]\n",
            " [-55.     1.  ]\n",
            " [-55.     1.  ]\n",
            " [-50.8    0.96]\n",
            " [-55.     1.  ]\n",
            " [-55.     1.  ]\n",
            " [-55.     1.  ]]\n"
          ]
        }
      ]
    },
    {
      "cell_type": "code",
      "metadata": {
        "id": "ozgRQ3DbPEmL"
      },
      "source": [
        ""
      ],
      "execution_count": null,
      "outputs": []
    }
  ]
}