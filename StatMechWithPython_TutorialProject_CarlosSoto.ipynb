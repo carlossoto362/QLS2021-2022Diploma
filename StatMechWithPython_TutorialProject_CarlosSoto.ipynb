{
  "nbformat": 4,
  "nbformat_minor": 0,
  "metadata": {
    "colab": {
      "name": "StatMechWithPython_TutorialProject_CarlosSoto.ipynb",
      "provenance": [],
      "collapsed_sections": [],
      "authorship_tag": "ABX9TyMSf+AiQJwd1zXec8/+ORLB",
      "include_colab_link": true
    },
    "kernelspec": {
      "name": "python3",
      "display_name": "Python 3"
    },
    "language_info": {
      "name": "python"
    }
  },
  "cells": [
    {
      "cell_type": "markdown",
      "metadata": {
        "id": "view-in-github",
        "colab_type": "text"
      },
      "source": [
        "<a href=\"https://colab.research.google.com/github/carlossoto362/QLS2021-2022Diploma/blob/main/StatMechWithPython_TutorialProject_CarlosSoto.ipynb\" target=\"_parent\"><img src=\"https://colab.research.google.com/assets/colab-badge.svg\" alt=\"Open In Colab\"/></a>"
      ]
    },
    {
      "cell_type": "markdown",
      "metadata": {
        "id": "iKNNM5Y-_9Ip"
      },
      "source": [
        "# **Statistical Mechanics with Python: Tutorial project**\n",
        "*December 2021*\n",
        "\n",
        "*Proyect made by: Carlos Enmanuel Soto Lopez*\n",
        "\n",
        "*carlos.soto362@gmail.com / csoto_lo@ictp.it*\n",
        "\n",
        "\n",
        "## **The 2D Potts model**\n",
        "This is the tutorial project in the Statistical Mechanics with python curse. The 2D Potts model is a two dimentional lattice with $N = L\\times L$ spins, each of them can be in one of *q* diferent colors $s_i=(1,2,\\dots,q)$.\n",
        "\n",
        "The Hamiltonian of this system is,\n",
        "\\begin{equation}\n",
        "H(x) = -\\sum _{(i,j)}J\\delta (s_i,s_j) - \\sum _{i} h \\delta (s_i,1),\n",
        "\\end{equation}\n",
        "where $J$ is the coupling energy constant, $h$ a magnetic field. The sum over $(i,j)$ is the sum over nearest neighbors only, and $i = (i_x,i_y), j = (j_x, j_y) \\in (0,L]\\times (0,L]$ . The $\\delta()$ is the kronecker delta. For this problem I have to use periodic boundary conditions.\n",
        "\n",
        "### **Programing part** ###\n",
        "This is a Metropolis Montecarlo simulator for the 2D Potts model of any number of colors q. \n",
        "\n",
        "- Write a function that takes as arguments a 2D array of $L \\times L$ spins, $\\vec{s} = {s_{1,1},...,s_{L,L}} (s \\in 0,1,...,q )$, the coupling constant $J$, and the\n",
        "magnetic field $h$ and returns the energy of that configuration $\\vec{s}$."
      ]
    },
    {
      "cell_type": "code",
      "metadata": {
        "colab": {
          "base_uri": "https://localhost:8080/"
        },
        "id": "H4n8rTsTEkxV",
        "outputId": "d016d4b5-2ecd-44dd-cdf4-9970c154c9ac"
      },
      "source": [
        "#Proyect made by: Carlos Enmanuel Soto Lopez\n",
        "#carlos.soto362@gmail.com / csoto_lo@ictp.it\n",
        "#https://github.com/carlossoto362/QLS2021-2022Diploma\n",
        "\n",
        "#This proyect is a Metropolis Montecralo simulator for a 2D Potts model of any number of colors q. \n",
        "\n",
        "import numpy as np\n",
        "\n",
        "###########################################################\n",
        "#this part include code that was not teached in the class, but i think is a nice inclusion. Of course, it can be ignored...\n",
        "#It ask to the user for the number of colors.\n",
        "\n",
        "q = input(\"write the number of colors please_ \")\n",
        "flag = False\n",
        "while flag == False:\n",
        "  try:\n",
        "    q = int(q)\n",
        "    flag = True\n",
        "  except ValueError:\n",
        "    q = input(\"Incorrect input, try with a number, not an integer_ \")\n",
        "\n",
        "###########################################################\n",
        "#For the function of energy, I like to define functions for the spin on the left, right, up and down first:\n",
        "def left(x,y,L):\n",
        "  \"\"\"\n",
        "  left(x,y) is a numpy array of lengt 2, with the coordinates of the spin at the left of the coordinates x,y.\n",
        "  L is the length of one dimention of the matrix.\n",
        "  \"\"\"\n",
        "  if x == 0:\n",
        "    l = np.array([L-1,y])\n",
        "  else:\n",
        "    l = np.array([x-1,y])\n",
        "  return l\n",
        "\n",
        "def right(x,y,L):\n",
        "  \"\"\"\n",
        "  right(x,y) is a numpy array of lengt 2, with the coordinates of the spin at the right of the coordinates x,y.\n",
        "  L is the length of one dimention of the matrix.\n",
        "  \"\"\"\n",
        "  if x == L-1:\n",
        "    l = np.array([0,y])\n",
        "  else:\n",
        "    l = np.array([x+1,y])\n",
        "  return l\n",
        "\n",
        "def up(x,y,L):\n",
        "  \"\"\"\n",
        "  up(x,y) is a numpy array of lengt 2, with the coordinates of the spin up to the coordinates x,y.\n",
        "  L is the length of one dimention of the matrix.\n",
        "  \"\"\"\n",
        "  if y == L-1:\n",
        "    l = np.array([x,0])\n",
        "  else:\n",
        "    l = np.array([x,y+1])\n",
        "  return l\n",
        "\n",
        "def down(x,y,L):\n",
        "  \"\"\"\n",
        "  down(x,y) is a numpy array of lengt 2, with the coordinates of the spin down of the coordinates x,y.\n",
        "  L is the length of one dimention of the matrix.\n",
        "  \"\"\"\n",
        "  if y == 0:\n",
        "    l = np.array([x,L-1])\n",
        "  else:\n",
        "    l = np.array([x,y-1])\n",
        "  return l\n",
        "\n",
        "############################################################\n",
        "#Lets defin the delta functions as well\n",
        "def delta1(s):\n",
        "  if s == 1:\n",
        "    r = 1\n",
        "  else:\n",
        "    r = 0\n",
        "  return r\n",
        "\n",
        "def delta2(s1,s2):\n",
        "  if s1 == s2:\n",
        "    r = 1\n",
        "  else:\n",
        "    r = 0\n",
        "  return r\n",
        "\n",
        "############################################################\n",
        "#Now lets define the function that returns the energy. By the way, I will not use this function XD. \n",
        "#I will use the function that calculates the diference in energy, which will only depend on the neighbors.\n",
        "\n",
        "def Energy(Matrix2D,J,h):\n",
        "  \"\"\"\n",
        "    Energy(Matrix2D,J,h) is a float number, Matrix2D a LxL array with integer values between 0 and q, J and h are float numbers.\n",
        "  \"\"\"\n",
        "  L = Matrix2D.shape[0]\n",
        "  #the sum over the individual elements is easy, the problem is that the sum over the neighbors will count two times each interaction, \n",
        "  #so, dividing by to will lead to the correct result.\n",
        "  H = 0\n",
        "  for i in range(0,L):\n",
        "    for j in range(0,L):\n",
        "      H += - h * delta1(Matrix2D[i,j]) - (J/2) * ( delta2(Matrix2D[i,j],Matrix2D[left(i,j,L)[0],left(i,j,L)[1]]) + \\\n",
        "                                                  delta2(Matrix2D[i,j],Matrix2D[right(i,j,L)[0],riht(i,j,L)[1]]) + \\\n",
        "                                                  delta2(Matrix2D[i,j],Matrix2D[up(i,j,L)[0],up(i,j,L)[1]]) + \\\n",
        "                                                  delta2(Matrix2D[i,j],Matrix2D[down(i,j,L)[0],down(i,j,L)[1]]))\n",
        "  return H\n",
        "\n",
        "    "
      ],
      "execution_count": 11,
      "outputs": [
        {
          "name": "stdout",
          "output_type": "stream",
          "text": [
            "write the number of colors please_ 1\n"
          ]
        }
      ]
    },
    {
      "cell_type": "code",
      "metadata": {
        "id": "lSzBrzSUzGWn"
      },
      "source": [
        ""
      ],
      "execution_count": null,
      "outputs": []
    }
  ]
}